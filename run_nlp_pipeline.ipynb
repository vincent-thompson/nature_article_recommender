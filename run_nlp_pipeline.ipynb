{
 "cells": [
  {
   "cell_type": "markdown",
   "metadata": {},
   "source": [
    "### Imports"
   ]
  },
  {
   "cell_type": "code",
   "execution_count": 1,
   "metadata": {
    "execution": {
     "iopub.execute_input": "2020-11-04T16:11:40.363435Z",
     "iopub.status.busy": "2020-11-04T16:11:40.362979Z",
     "iopub.status.idle": "2020-11-04T16:11:42.298103Z",
     "shell.execute_reply": "2020-11-04T16:11:42.297147Z",
     "shell.execute_reply.started": "2020-11-04T16:11:40.363388Z"
    }
   },
   "outputs": [],
   "source": [
    "import pandas as pd\n",
    "import numpy as np\n",
    "import pickle\n",
    "from sklearn.feature_extraction.text import TfidfVectorizer\n",
    "from nltk.tokenize import ToktokTokenizer\n",
    "from nltk.stem import PorterStemmer\n",
    "import unicodedata\n",
    "import nltk\n",
    "import spacy"
   ]
  },
  {
   "cell_type": "markdown",
   "metadata": {},
   "source": [
    "### Load article dataframe"
   ]
  },
  {
   "cell_type": "code",
   "execution_count": 2,
   "metadata": {
    "execution": {
     "iopub.execute_input": "2020-11-04T16:11:42.299866Z",
     "iopub.status.busy": "2020-11-04T16:11:42.299663Z",
     "iopub.status.idle": "2020-11-04T16:11:42.544153Z",
     "shell.execute_reply": "2020-11-04T16:11:42.543378Z",
     "shell.execute_reply.started": "2020-11-04T16:11:42.299840Z"
    }
   },
   "outputs": [],
   "source": [
    "article_df = pickle.load(open(\"df_update.p\", \"rb\"))"
   ]
  },
  {
   "cell_type": "code",
   "execution_count": 4,
   "metadata": {
    "execution": {
     "iopub.execute_input": "2020-11-04T16:11:42.578957Z",
     "iopub.status.busy": "2020-11-04T16:11:42.578588Z",
     "iopub.status.idle": "2020-11-04T16:11:42.582466Z",
     "shell.execute_reply": "2020-11-04T16:11:42.581903Z",
     "shell.execute_reply.started": "2020-11-04T16:11:42.578929Z"
    }
   },
   "outputs": [],
   "source": [
    "d = {'January': 1, 'February': 2, 'March': 3, 'April': 4, 'May': 5, 'June': 6, 'July': 7, \\\n",
    "    'August': 8, 'September': 9, 'October': 10, 'November': 11, 'December': 12}"
   ]
  },
  {
   "cell_type": "markdown",
   "metadata": {},
   "source": [
    "### Import pipeline from preprocessing.py"
   ]
  },
  {
   "cell_type": "code",
   "execution_count": 5,
   "metadata": {
    "execution": {
     "iopub.execute_input": "2020-11-04T16:11:42.583721Z",
     "iopub.status.busy": "2020-11-04T16:11:42.583535Z",
     "iopub.status.idle": "2020-11-04T16:11:42.599155Z",
     "shell.execute_reply": "2020-11-04T16:11:42.598346Z",
     "shell.execute_reply.started": "2020-11-04T16:11:42.583698Z"
    }
   },
   "outputs": [],
   "source": [
    "from preprocessing import NLPPipe"
   ]
  },
  {
   "cell_type": "code",
   "execution_count": 6,
   "metadata": {
    "execution": {
     "iopub.execute_input": "2020-11-04T16:11:42.601136Z",
     "iopub.status.busy": "2020-11-04T16:11:42.600791Z",
     "iopub.status.idle": "2020-11-04T16:11:42.606265Z",
     "shell.execute_reply": "2020-11-04T16:11:42.605603Z",
     "shell.execute_reply.started": "2020-11-04T16:11:42.601107Z"
    }
   },
   "outputs": [],
   "source": [
    "vectorizer = TfidfVectorizer(\n",
    "                sublinear_tf=True,\n",
    "                analyzer='word',\n",
    "                token_pattern=r'\\w{1,}',\n",
    "                max_df = .5,\n",
    "                min_df = 0.0001,\n",
    "                ngram_range=(1, 1),\n",
    "                max_features=50000)"
   ]
  },
  {
   "cell_type": "code",
   "execution_count": 7,
   "metadata": {
    "execution": {
     "iopub.execute_input": "2020-11-04T16:11:42.609118Z",
     "iopub.status.busy": "2020-11-04T16:11:42.608810Z",
     "iopub.status.idle": "2020-11-04T16:11:43.343532Z",
     "shell.execute_reply": "2020-11-04T16:11:43.342761Z",
     "shell.execute_reply.started": "2020-11-04T16:11:42.609090Z"
    }
   },
   "outputs": [],
   "source": [
    "nlp = NLPPipe(vectorizer=vectorizer, \n",
    "              tokenizer=ToktokTokenizer(),\n",
    "              cleaning_function=None, \n",
    "              stemmer=None,\n",
    "              model = None,\n",
    "              sw_list = None)"
   ]
  },
  {
   "cell_type": "markdown",
   "metadata": {},
   "source": [
    "### Call NLP class's fit method, which cleans the text data and fits the TF-IDF vectorizer"
   ]
  },
  {
   "cell_type": "code",
   "execution_count": 8,
   "metadata": {
    "execution": {
     "iopub.execute_input": "2020-11-04T16:11:43.347059Z",
     "iopub.status.busy": "2020-11-04T16:11:43.346752Z",
     "iopub.status.idle": "2020-11-04T16:14:48.278224Z",
     "shell.execute_reply": "2020-11-04T16:14:48.277167Z",
     "shell.execute_reply.started": "2020-11-04T16:11:43.347025Z"
    }
   },
   "outputs": [],
   "source": [
    "nlp.fit(article_df, cleaned = False)"
   ]
  },
  {
   "cell_type": "code",
   "execution_count": 9,
   "metadata": {
    "execution": {
     "iopub.execute_input": "2020-11-04T16:14:48.279950Z",
     "iopub.status.busy": "2020-11-04T16:14:48.279685Z",
     "iopub.status.idle": "2020-11-04T16:14:54.912166Z",
     "shell.execute_reply": "2020-11-04T16:14:54.911235Z",
     "shell.execute_reply.started": "2020-11-04T16:14:48.279924Z"
    }
   },
   "outputs": [],
   "source": [
    "df_vectorized = nlp.transform(article_df, cleaned = True)"
   ]
  },
  {
   "cell_type": "markdown",
   "metadata": {},
   "source": [
    "### Pickle cleaned dataframe and document term matrix, and save nlp pipeline's current state"
   ]
  },
  {
   "cell_type": "code",
   "execution_count": 10,
   "metadata": {
    "execution": {
     "iopub.execute_input": "2020-11-04T16:14:54.913692Z",
     "iopub.status.busy": "2020-11-04T16:14:54.913480Z",
     "iopub.status.idle": "2020-11-04T16:14:55.607530Z",
     "shell.execute_reply": "2020-11-04T16:14:55.606544Z",
     "shell.execute_reply.started": "2020-11-04T16:14:54.913665Z"
    }
   },
   "outputs": [],
   "source": [
    "pickle.dump(article_df, open('clean_df2.p', 'wb'))\n",
    "pickle.dump(df_vectorized, open('dtm2.p', 'wb'))"
   ]
  },
  {
   "cell_type": "code",
   "execution_count": 11,
   "metadata": {
    "execution": {
     "iopub.execute_input": "2020-11-04T16:14:55.609492Z",
     "iopub.status.busy": "2020-11-04T16:14:55.609064Z",
     "iopub.status.idle": "2020-11-04T16:14:56.496366Z",
     "shell.execute_reply": "2020-11-04T16:14:56.495542Z",
     "shell.execute_reply.started": "2020-11-04T16:14:55.609452Z"
    }
   },
   "outputs": [],
   "source": [
    "nlp.save_pipe('pipeline2')"
   ]
  }
 ],
 "metadata": {
  "kernelspec": {
   "display_name": "Python 3",
   "language": "python",
   "name": "python3"
  },
  "language_info": {
   "codemirror_mode": {
    "name": "ipython",
    "version": 3
   },
   "file_extension": ".py",
   "mimetype": "text/x-python",
   "name": "python",
   "nbconvert_exporter": "python",
   "pygments_lexer": "ipython3",
   "version": "3.7.7"
  }
 },
 "nbformat": 4,
 "nbformat_minor": 4
}
