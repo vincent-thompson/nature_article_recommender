{
 "cells": [
  {
   "cell_type": "markdown",
   "metadata": {},
   "source": [
    "Imports"
   ]
  },
  {
   "cell_type": "code",
   "execution_count": 615,
   "metadata": {
    "execution": {
     "iopub.execute_input": "2020-11-11T20:32:15.052366Z",
     "iopub.status.busy": "2020-11-11T20:32:15.052091Z",
     "iopub.status.idle": "2020-11-11T20:32:15.057150Z",
     "shell.execute_reply": "2020-11-11T20:32:15.056271Z",
     "shell.execute_reply.started": "2020-11-11T20:32:15.052335Z"
    }
   },
   "outputs": [],
   "source": [
    "import pandas as pd\n",
    "import numpy as np\n",
    "import pickle\n",
    "from sklearn.feature_extraction.text import TfidfVectorizer\n",
    "from nltk.tokenize import ToktokTokenizer\n",
    "from nltk.stem import PorterStemmer\n",
    "import unicodedata\n",
    "import nltk\n",
    "import spacy\n",
    "from preprocessing import NLPPipe\n",
    "from sklearn.decomposition import NMF"
   ]
  },
  {
   "cell_type": "code",
   "execution_count": 616,
   "metadata": {
    "execution": {
     "iopub.execute_input": "2020-11-11T20:32:15.940084Z",
     "iopub.status.busy": "2020-11-11T20:32:15.939827Z",
     "iopub.status.idle": "2020-11-11T20:32:17.531333Z",
     "shell.execute_reply": "2020-11-11T20:32:17.530568Z",
     "shell.execute_reply.started": "2020-11-11T20:32:15.940054Z"
    }
   },
   "outputs": [],
   "source": [
    "topic_df = pickle.load(open(\"topic_df\", \"rb\"))"
   ]
  },
  {
   "cell_type": "markdown",
   "metadata": {},
   "source": [
    "### Disease subtopics"
   ]
  },
  {
   "cell_type": "code",
   "execution_count": 617,
   "metadata": {
    "execution": {
     "iopub.execute_input": "2020-11-11T20:32:19.250008Z",
     "iopub.status.busy": "2020-11-11T20:32:19.249732Z",
     "iopub.status.idle": "2020-11-11T20:32:19.837509Z",
     "shell.execute_reply": "2020-11-11T20:32:19.836715Z",
     "shell.execute_reply.started": "2020-11-11T20:32:19.249976Z"
    }
   },
   "outputs": [],
   "source": [
    "current_topic = 'Diseases/ Epidemics/ Viruses'\n",
    "virus_df = topic_df[topic_df.closest_topic == 'Diseases/ Epidemics/ Viruses']"
   ]
  },
  {
   "cell_type": "code",
   "execution_count": 618,
   "metadata": {
    "execution": {
     "iopub.execute_input": "2020-11-11T20:34:46.338502Z",
     "iopub.status.busy": "2020-11-11T20:34:46.338083Z",
     "iopub.status.idle": "2020-11-11T20:34:46.343201Z",
     "shell.execute_reply": "2020-11-11T20:34:46.342458Z",
     "shell.execute_reply.started": "2020-11-11T20:34:46.338463Z"
    }
   },
   "outputs": [],
   "source": [
    "vectorizer = TfidfVectorizer(\n",
    "                sublinear_tf=True,\n",
    "                analyzer='word',\n",
    "                token_pattern=r'\\w{1,}',\n",
    "                max_df = .5,\n",
    "                min_df = 0.0001,\n",
    "                ngram_range=(1, 1),\n",
    "                max_features=50000)"
   ]
  },
  {
   "cell_type": "code",
   "execution_count": 619,
   "metadata": {
    "execution": {
     "iopub.execute_input": "2020-11-11T20:34:46.517187Z",
     "iopub.status.busy": "2020-11-11T20:34:46.516944Z",
     "iopub.status.idle": "2020-11-11T20:34:47.310455Z",
     "shell.execute_reply": "2020-11-11T20:34:47.309713Z",
     "shell.execute_reply.started": "2020-11-11T20:34:46.517161Z"
    }
   },
   "outputs": [],
   "source": [
    "nlp = NLPPipe(vectorizer=vectorizer, \n",
    "              tokenizer=ToktokTokenizer(),\n",
    "              cleaning_function=None, \n",
    "              stemmer=None,\n",
    "              model = None,\n",
    "              sw_list = None)"
   ]
  },
  {
   "cell_type": "code",
   "execution_count": 745,
   "metadata": {
    "execution": {
     "iopub.execute_input": "2020-11-16T19:42:51.902757Z",
     "iopub.status.busy": "2020-11-16T19:42:51.899826Z",
     "iopub.status.idle": "2020-11-16T19:42:51.955573Z",
     "shell.execute_reply": "2020-11-16T19:42:51.954028Z",
     "shell.execute_reply.started": "2020-11-16T19:42:51.902681Z"
    }
   },
   "outputs": [],
   "source": [
    "nlp.fit(virus_df, cleaned = False)"
   ]
  },
  {
   "cell_type": "code",
   "execution_count": 621,
   "metadata": {
    "execution": {
     "iopub.execute_input": "2020-11-11T20:35:04.123284Z",
     "iopub.status.busy": "2020-11-11T20:35:04.122947Z",
     "iopub.status.idle": "2020-11-11T20:35:04.500926Z",
     "shell.execute_reply": "2020-11-11T20:35:04.500208Z",
     "shell.execute_reply.started": "2020-11-11T20:35:04.123212Z"
    }
   },
   "outputs": [],
   "source": [
    "dtm = nlp.transform(virus_df, cleaned = True)"
   ]
  },
  {
   "cell_type": "code",
   "execution_count": 622,
   "metadata": {
    "execution": {
     "iopub.execute_input": "2020-11-11T20:35:10.945955Z",
     "iopub.status.busy": "2020-11-11T20:35:10.945668Z",
     "iopub.status.idle": "2020-11-11T20:35:10.951755Z",
     "shell.execute_reply": "2020-11-11T20:35:10.950941Z",
     "shell.execute_reply.started": "2020-11-11T20:35:10.945922Z"
    }
   },
   "outputs": [],
   "source": [
    "def display_topics(model, feature_names, no_top_words, topic_names=None):\n",
    "    for ix, topic in enumerate(model.components_):\n",
    "        if not topic_names or not topic_names[ix]:\n",
    "            print(\"\\nTopic \", ix)\n",
    "        else:\n",
    "            print(\"\\nTopic: '\",topic_names[ix],\"'\")\n",
    "        print(\", \".join([feature_names[i]\n",
    "                        for i in topic.argsort()[:-no_top_words - 1:-1]]))"
   ]
  },
  {
   "cell_type": "code",
   "execution_count": 623,
   "metadata": {
    "execution": {
     "iopub.execute_input": "2020-11-11T20:35:15.660527Z",
     "iopub.status.busy": "2020-11-11T20:35:15.659994Z",
     "iopub.status.idle": "2020-11-11T20:35:15.664287Z",
     "shell.execute_reply": "2020-11-11T20:35:15.663464Z",
     "shell.execute_reply.started": "2020-11-11T20:35:15.660491Z"
    }
   },
   "outputs": [],
   "source": [
    "nmf_model = NMF(15, random_state=2)"
   ]
  },
  {
   "cell_type": "code",
   "execution_count": 624,
   "metadata": {
    "execution": {
     "iopub.execute_input": "2020-11-11T20:35:16.033618Z",
     "iopub.status.busy": "2020-11-11T20:35:16.033266Z",
     "iopub.status.idle": "2020-11-11T20:35:18.046965Z",
     "shell.execute_reply": "2020-11-11T20:35:18.046237Z",
     "shell.execute_reply.started": "2020-11-11T20:35:16.033583Z"
    }
   },
   "outputs": [],
   "source": [
    "doc_topic = nmf_model.fit_transform(dtm)"
   ]
  },
  {
   "cell_type": "code",
   "execution_count": 625,
   "metadata": {
    "execution": {
     "iopub.execute_input": "2020-11-11T20:35:18.335664Z",
     "iopub.status.busy": "2020-11-11T20:35:18.335429Z",
     "iopub.status.idle": "2020-11-11T20:35:18.339742Z",
     "shell.execute_reply": "2020-11-11T20:35:18.338888Z",
     "shell.execute_reply.started": "2020-11-11T20:35:18.335638Z"
    }
   },
   "outputs": [],
   "source": [
    "topic_names = [ 'COVID-19', 'Bird Flu/Swine Flu', 'Immunology/Vaccine Trials', '?' , \n",
    "              'Neurodegenerative Diseases, Animal/Meat-borne', 'Ebola', 'Biosecurity', 'HIV', 'Polio', '??', 'Malaria', \n",
    "              'Bacterial Infections', 'Epidemiology', '???', 'Mosquito-Borne (Dengue, Zika, Yellow Fever, etc)']"
   ]
  },
  {
   "cell_type": "code",
   "execution_count": 366,
   "metadata": {
    "execution": {
     "iopub.execute_input": "2020-11-10T20:14:42.607900Z",
     "iopub.status.busy": "2020-11-10T20:14:42.607575Z",
     "iopub.status.idle": "2020-11-10T20:14:42.664686Z",
     "shell.execute_reply": "2020-11-10T20:14:42.663771Z",
     "shell.execute_reply.started": "2020-11-10T20:14:42.607858Z"
    }
   },
   "outputs": [
    {
     "name": "stdout",
     "output_type": "stream",
     "text": [
      "\n",
      "Topic  0\n",
      "covid, coronavirus, sarscov, testing, lockdown, china, wuhan, test, dont, city, state, home, pandemic, scientist, travel, day, positive, measure, hospital, mask, person, need, united, keep, outbreak, lab, tested, preprint, community, data\n",
      "\n",
      "Topic  1\n",
      "flu, bird, hn, avian, poultry, influenza, human, pandemic, strain, chicken, asia, vietnam, pig, fao, outbreak, china, spread, surveillance, agriculture, organization, hong, humantohuman, kong, indonesia, duck, thailand, farm, gene, official, sample\n",
      "\n",
      "Topic  2\n",
      "vaccine, trial, immune, antibody, company, response, protein, clinical, cell, dos, produce, vaccination, effective, production, jab, protection, protect, u, strain, maryland, developed, shot, make, made, dose, flu, used, institute, use, called\n",
      "\n",
      "Topic  3\n",
      "human, animal, team, monkey, siv, primate, strain, sequence, found, specie, bat, chimpanzee, genetic, host, cell, genome, finding, different, chimp, gene, hiv, infect, wild, viral, reservoir, sample, mutation, protein, colleague, holmes\n",
      "\n",
      "Topic  4\n",
      "bse, cattle, cow, prion, vcjd, britain, encephalopathy, spongiform, animal, bovine, meat, feed, sheep, british, creutzfeldtjakob, mad, variant, brain, scrapie, herd, slaughtered, uk, epidemic, human, beef, food, tissue, cjd, government, bonemeal\n",
      "\n",
      "Topic  5\n",
      "ebola, drc, outbreak, west, congo, worker, republic, democratic, emergency, sierra, leone, responder, contact, africa, guinea, epidemic, died, said, liberia, organization, publichealth, response, treatment, violence, border, msf, experimental, crisis, patient, beni\n",
      "\n",
      "Topic  6\n",
      "nsabb, biosecurity, lab, flu, fouchier, biosafety, work, benefit, hn, kawaoka, u, science, board, moratorium, government, risk, meeting, advisory, scientist, pathogen, public, national, oversight, experiment, dangerous, debate, security, scientific, policy, accidental\n",
      "\n",
      "Topic  7\n",
      "hiv, aid, woman, men, sex, antiretroviral, africa, condom, partner, south, drug, treatment, unaids, circumcision, rate, trial, prevention, gel, hivaids, conference, uganda, million, epidemic, male, sexual, african, programme, result, subsaharan, hivpositive\n",
      "\n",
      "Topic  8\n",
      "polio, eradication, vaccination, nigeria, campaign, pakistan, poliovirus, child, immunization, vaccine, afghanistan, india, global, initiative, poliofree, aylward, programme, eradicate, million, oral, wild, effort, smallpox, area, eradicated, outbreak, organization, africa, last, poliomyelitis\n",
      "\n",
      "Topic  9\n",
      "sars, respiratory, china, coronavirus, syndrome, acute, hong, kong, animal, chinese, severe, coronaviruses, guangdong, civet, osterhaus, market, patient, beijing, human, erasmus, province, albert, virologist, contact, cause, outbreak, rotterdam, related, netherlands, cat\n",
      "\n",
      "Topic  10\n",
      "malaria, parasite, rtss, mosquito, child, million, plasmodium, melinda, vaccine, falciparum, africa, net, trial, gate, global, initiative, foundation, bed, fund, development, bill, programme, fight, money, stage, effort, billion, organization, drug, effective\n",
      "\n",
      "Topic  11\n",
      "antibiotic, bacteria, resistance, tb, resistant, patient, drug, tuberculosis, strain, drugresistant, cdc, treatment, test, hospital, microbiologist, aureus, sample, bacterium, mrsa, mdr, laboratory, problem, doctor, xdr, atlanta, lab, used, bacterial, use, center\n",
      "\n",
      "Topic  12\n",
      "death, data, rate, number, estimate, epidemiologist, epidemic, population, figure, model, mortality, seasonal, child, age, school, likely, influenza, flu, season, pandemic, outbreak, around, higher, swine, le, die, survey, might, cholera, factor\n",
      "\n",
      "Topic  13\n",
      "dr, war, great, britain, medical, british, appointed, lecture, service, royal, prof, scientific, ministry, london, professor, society, council, education, association, problem, general, subject, committee, inquiry, officer, gulf, investigation, hygiene, relation, present\n",
      "\n",
      "Topic  14\n",
      "mosquito, dengue, wolbachia, aegypti, zika, fever, aedes, chikungunya, insect, mosquitoborne, wolbachiainfected, brazil, release, area, oneill, population, released, scott, yogyakarta, spread, america, yellow, city, bacteria, oaneill, indonesia, vector, nile, wmp, australia\n"
     ]
    }
   ],
   "source": [
    "display_topics(nmf_model, nlp.vectorizer.get_feature_names(), 30)"
   ]
  },
  {
   "cell_type": "code",
   "execution_count": 626,
   "metadata": {
    "execution": {
     "iopub.execute_input": "2020-11-11T20:35:25.679558Z",
     "iopub.status.busy": "2020-11-11T20:35:25.679313Z",
     "iopub.status.idle": "2020-11-11T20:35:25.687840Z",
     "shell.execute_reply": "2020-11-11T20:35:25.687180Z",
     "shell.execute_reply.started": "2020-11-11T20:35:25.679529Z"
    }
   },
   "outputs": [],
   "source": [
    "H = pd.DataFrame(doc_topic.round(5),\n",
    "             index = virus_df.title.values,\n",
    "             columns = topic_names)\n",
    "H.drop(columns=['?', '??', '???'], inplace=True)"
   ]
  },
  {
   "cell_type": "code",
   "execution_count": 627,
   "metadata": {
    "execution": {
     "iopub.execute_input": "2020-11-11T20:35:28.043629Z",
     "iopub.status.busy": "2020-11-11T20:35:28.043360Z",
     "iopub.status.idle": "2020-11-11T20:35:28.047956Z",
     "shell.execute_reply": "2020-11-11T20:35:28.047215Z",
     "shell.execute_reply.started": "2020-11-11T20:35:28.043601Z"
    }
   },
   "outputs": [],
   "source": [
    "maxes = H.max(axis=1).values"
   ]
  },
  {
   "cell_type": "code",
   "execution_count": 628,
   "metadata": {
    "execution": {
     "iopub.execute_input": "2020-11-11T20:36:08.844073Z",
     "iopub.status.busy": "2020-11-11T20:36:08.843825Z",
     "iopub.status.idle": "2020-11-11T20:36:09.235329Z",
     "shell.execute_reply": "2020-11-11T20:36:09.234605Z",
     "shell.execute_reply.started": "2020-11-11T20:36:08.844048Z"
    }
   },
   "outputs": [],
   "source": [
    "article_topics = []\n",
    "for i, row in enumerate(H.index):\n",
    "    top_topics = []\n",
    "    if maxes[i] == 0:\n",
    "        article_topics.append('None')\n",
    "    else:\n",
    "        for j, column in enumerate(H.columns):\n",
    "            if H.iloc[i, j] == maxes[i] and maxes[i] > 0:\n",
    "                top_topics.append(column)\n",
    "        article_topics.append(top_topics[0])\n",
    "    \n",
    "    \n",
    "H['closest_topic'] = article_topics"
   ]
  },
  {
   "cell_type": "code",
   "execution_count": 629,
   "metadata": {
    "execution": {
     "iopub.execute_input": "2020-11-11T20:36:23.589972Z",
     "iopub.status.busy": "2020-11-11T20:36:23.589700Z",
     "iopub.status.idle": "2020-11-11T20:36:23.602721Z",
     "shell.execute_reply": "2020-11-11T20:36:23.601940Z",
     "shell.execute_reply.started": "2020-11-11T20:36:23.589944Z"
    }
   },
   "outputs": [],
   "source": [
    "subtopics = []\n",
    "for i in range(len(topic_df)):\n",
    "    subtopics.append('')\n",
    "topic_df['subtopic'] = subtopics"
   ]
  },
  {
   "cell_type": "code",
   "execution_count": 630,
   "metadata": {
    "execution": {
     "iopub.execute_input": "2020-11-11T20:36:27.042542Z",
     "iopub.status.busy": "2020-11-11T20:36:27.042283Z",
     "iopub.status.idle": "2020-11-11T20:36:32.821370Z",
     "shell.execute_reply": "2020-11-11T20:36:32.820250Z",
     "shell.execute_reply.started": "2020-11-11T20:36:27.042516Z"
    }
   },
   "outputs": [],
   "source": [
    "for i, title in enumerate(H.index):\n",
    "    ind = topic_df[(topic_df.title == title) & (topic_df.closest_topic==current_topic)].index.values[0]\n",
    "    topic_df.loc[ind, 'subtopic'] = H.iloc[i, 12]"
   ]
  },
  {
   "cell_type": "markdown",
   "metadata": {},
   "source": [
    "### Climate Science subtopics"
   ]
  },
  {
   "cell_type": "code",
   "execution_count": 636,
   "metadata": {
    "execution": {
     "iopub.execute_input": "2020-11-11T20:37:28.728240Z",
     "iopub.status.busy": "2020-11-11T20:37:28.727962Z",
     "iopub.status.idle": "2020-11-11T20:37:29.034426Z",
     "shell.execute_reply": "2020-11-11T20:37:29.033546Z",
     "shell.execute_reply.started": "2020-11-11T20:37:28.728208Z"
    }
   },
   "outputs": [],
   "source": [
    "current_topic = 'Climate Science'\n",
    "climate_df = topic_df[topic_df.closest_topic == 'Climate Science']"
   ]
  },
  {
   "cell_type": "code",
   "execution_count": 637,
   "metadata": {
    "execution": {
     "iopub.execute_input": "2020-11-11T20:37:29.311487Z",
     "iopub.status.busy": "2020-11-11T20:37:29.311246Z",
     "iopub.status.idle": "2020-11-11T20:37:30.946171Z",
     "shell.execute_reply": "2020-11-11T20:37:30.945098Z",
     "shell.execute_reply.started": "2020-11-11T20:37:29.311462Z"
    }
   },
   "outputs": [],
   "source": [
    "nlp = NLPPipe(vectorizer=vectorizer, \n",
    "              tokenizer=ToktokTokenizer(),\n",
    "              cleaning_function=None, \n",
    "              stemmer=None,\n",
    "              model = None,\n",
    "              sw_list = None)"
   ]
  },
  {
   "cell_type": "code",
   "execution_count": 746,
   "metadata": {
    "execution": {
     "iopub.execute_input": "2020-11-16T19:43:12.664101Z",
     "iopub.status.busy": "2020-11-16T19:43:12.663173Z",
     "iopub.status.idle": "2020-11-16T19:43:12.669270Z",
     "shell.execute_reply": "2020-11-16T19:43:12.668112Z",
     "shell.execute_reply.started": "2020-11-16T19:43:12.664064Z"
    }
   },
   "outputs": [],
   "source": [
    "nlp.fit(climate_df, cleaned = False)"
   ]
  },
  {
   "cell_type": "code",
   "execution_count": 639,
   "metadata": {
    "execution": {
     "iopub.execute_input": "2020-11-11T20:37:41.051384Z",
     "iopub.status.busy": "2020-11-11T20:37:41.051144Z",
     "iopub.status.idle": "2020-11-11T20:37:41.441540Z",
     "shell.execute_reply": "2020-11-11T20:37:41.440802Z",
     "shell.execute_reply.started": "2020-11-11T20:37:41.051354Z"
    }
   },
   "outputs": [],
   "source": [
    "dtm = nlp.transform(climate_df, cleaned = True)"
   ]
  },
  {
   "cell_type": "code",
   "execution_count": 640,
   "metadata": {
    "execution": {
     "iopub.execute_input": "2020-11-11T20:37:41.444066Z",
     "iopub.status.busy": "2020-11-11T20:37:41.443625Z",
     "iopub.status.idle": "2020-11-11T20:37:41.450917Z",
     "shell.execute_reply": "2020-11-11T20:37:41.449163Z",
     "shell.execute_reply.started": "2020-11-11T20:37:41.444035Z"
    }
   },
   "outputs": [],
   "source": [
    "nmf_model = NMF(12, random_state=2)"
   ]
  },
  {
   "cell_type": "code",
   "execution_count": 747,
   "metadata": {
    "execution": {
     "iopub.execute_input": "2020-11-16T19:43:17.935310Z",
     "iopub.status.busy": "2020-11-16T19:43:17.935042Z",
     "iopub.status.idle": "2020-11-16T19:43:17.941611Z",
     "shell.execute_reply": "2020-11-16T19:43:17.940873Z",
     "shell.execute_reply.started": "2020-11-16T19:43:17.935280Z"
    }
   },
   "outputs": [],
   "source": [
    "doc_topic = nmf_model.fit_transform(dtm)"
   ]
  },
  {
   "cell_type": "code",
   "execution_count": 642,
   "metadata": {
    "execution": {
     "iopub.execute_input": "2020-11-11T20:37:44.275774Z",
     "iopub.status.busy": "2020-11-11T20:37:44.275428Z",
     "iopub.status.idle": "2020-11-11T20:37:44.280445Z",
     "shell.execute_reply": "2020-11-11T20:37:44.279383Z",
     "shell.execute_reply.started": "2020-11-11T20:37:44.275730Z"
    }
   },
   "outputs": [],
   "source": [
    "topic_names = ['Extreme Weather Events', 'International Cooperation', 'Greenhouse Gases, Permafrost', 'Ozone Depletion/Atmosphere', 'IPCC', '??', \n",
    "               'Deforestation, Rainforests', 'Phytoplankton', 'Hurricanes, Tropical Cyclones', 'Pollution, Air Quality, Emissions', \n",
    "               'Aerosols', 'Renewable Energy']"
   ]
  },
  {
   "cell_type": "code",
   "execution_count": 380,
   "metadata": {
    "execution": {
     "iopub.execute_input": "2020-11-10T20:15:32.600647Z",
     "iopub.status.busy": "2020-11-10T20:15:32.600342Z",
     "iopub.status.idle": "2020-11-10T20:15:32.645341Z",
     "shell.execute_reply": "2020-11-10T20:15:32.644488Z",
     "shell.execute_reply.started": "2020-11-10T20:15:32.600615Z"
    }
   },
   "outputs": [
    {
     "name": "stdout",
     "output_type": "stream",
     "text": [
      "\n",
      "Topic  0\n",
      "temperature, weather, event, extreme, model, rainfall, region, drought, record, summer, century, average, europe, heat, flood, pattern, human, increase, trend, condition\n",
      "\n",
      "Topic  1\n",
      "country, target, nation, kyoto, agreement, united, greenhousegas, protocol, developing, reduction, cut, paris, commitment, international, reduce, talk, said, level, treaty, action\n",
      "\n",
      "Topic  2\n",
      "methane, gas, soil, greenhouse, ice, permafrost, release, plant, dioxide, team, atmosphere, tonne, estimate, wetland, amount, co, atmospheric, source, microbe, finding\n",
      "\n",
      "Topic  3\n",
      "ozone, cfc, stratosphere, layer, montreal, hole, chemical, depletion, arctic, stratospheric, antarctic, chlorine, protocol, chlorofluorocarbon, polar, atmosphere, ultraviolet, ozonedepleting, atmospheric, reaction\n",
      "\n",
      "Topic  4\n",
      "ipcc, panel, assessment, intergovernmental, ipccs, working, author, group, rise, pachauri, summary, scenario, policymakers, sealevel, glacier, review, impact, scientific, science, ice\n",
      "\n",
      "Topic  5\n",
      "science, scientific, u, public, government, administration, said, national, state, policy, director, environmental, political, washington, people, group, company, plan, data, agency\n",
      "\n",
      "Topic  6\n",
      "forest, tree, deforestation, amazon, tropical, brazil, rainforest, land, fire, soil, area, hectare, ecologist, ecosystem, wood, sink, logging, plant, biomass, brazilian\n",
      "\n",
      "Topic  7\n",
      "ocean, marine, iron, co, experiment, sea, dioxide, phytoplankton, fertilization, plankton, water, oceanographer, coral, atmosphere, algae, ecosystem, sink, organism, bloom, southern\n",
      "\n",
      "Topic  8\n",
      "hurricane, storm, atlantic, ocean, emanuel, wind, intensity, tropical, cyclone, sea, atmospheric, trend, surface, temperature, trenberth, frequency, noaa, national, curry, increase\n",
      "\n",
      "Topic  9\n",
      "pollution, air, pollutant, ozone, health, city, nitrogen, quality, oxide, car, smog, particle, particulate, respiratory, pm, vehicle, standard, level, exhaust, sulphur\n",
      "\n",
      "Topic  10\n",
      "cloud, aerosol, sun, earth, cooling, solar, effect, particle, satellite, atmosphere, surface, sunlight, temperature, model, space, radiation, planet, water, data, heat\n",
      "\n",
      "Topic  11\n",
      "energy, power, coal, electricity, fuel, price, cost, oil, technology, plant, gas, economic, renewable, company, industry, china, per, production, tonne, efficiency\n"
     ]
    }
   ],
   "source": [
    "display_topics(nmf_model, nlp.vectorizer.get_feature_names(), 20)"
   ]
  },
  {
   "cell_type": "code",
   "execution_count": 643,
   "metadata": {
    "execution": {
     "iopub.execute_input": "2020-11-11T20:37:44.283410Z",
     "iopub.status.busy": "2020-11-11T20:37:44.283095Z",
     "iopub.status.idle": "2020-11-11T20:37:44.289675Z",
     "shell.execute_reply": "2020-11-11T20:37:44.288812Z",
     "shell.execute_reply.started": "2020-11-11T20:37:44.283379Z"
    }
   },
   "outputs": [],
   "source": [
    "H = pd.DataFrame(doc_topic.round(5),\n",
    "             index = climate_df.title.values,\n",
    "             columns = topic_names)\n",
    "H.drop(columns=['??'], inplace=True)"
   ]
  },
  {
   "cell_type": "code",
   "execution_count": 644,
   "metadata": {
    "execution": {
     "iopub.execute_input": "2020-11-11T20:37:45.614093Z",
     "iopub.status.busy": "2020-11-11T20:37:45.613861Z",
     "iopub.status.idle": "2020-11-11T20:37:45.984554Z",
     "shell.execute_reply": "2020-11-11T20:37:45.983759Z",
     "shell.execute_reply.started": "2020-11-11T20:37:45.614067Z"
    }
   },
   "outputs": [],
   "source": [
    "maxes = H.max(axis=1).values\n",
    "article_topics = []\n",
    "for i, row in enumerate(H.index):\n",
    "    top_topics = []\n",
    "    if maxes[i] == 0:\n",
    "        article_topics.append('None')\n",
    "    else:\n",
    "        for j, column in enumerate(H.columns):\n",
    "            if H.iloc[i, j] == maxes[i] and maxes[i] > 0:\n",
    "                top_topics.append(column)\n",
    "        article_topics.append(top_topics[0])\n",
    "    \n",
    "    \n",
    "H['closest_topic'] = article_topics"
   ]
  },
  {
   "cell_type": "code",
   "execution_count": 647,
   "metadata": {
    "execution": {
     "iopub.execute_input": "2020-11-11T20:39:22.866652Z",
     "iopub.status.busy": "2020-11-11T20:39:22.866378Z",
     "iopub.status.idle": "2020-11-11T20:39:22.870023Z",
     "shell.execute_reply": "2020-11-11T20:39:22.869066Z",
     "shell.execute_reply.started": "2020-11-11T20:39:22.866627Z"
    }
   },
   "outputs": [],
   "source": [
    "current_topic = 'Climate Science'"
   ]
  },
  {
   "cell_type": "code",
   "execution_count": 648,
   "metadata": {
    "execution": {
     "iopub.execute_input": "2020-11-11T20:39:24.023494Z",
     "iopub.status.busy": "2020-11-11T20:39:24.023246Z",
     "iopub.status.idle": "2020-11-11T20:39:30.151228Z",
     "shell.execute_reply": "2020-11-11T20:39:30.150505Z",
     "shell.execute_reply.started": "2020-11-11T20:39:24.023466Z"
    }
   },
   "outputs": [],
   "source": [
    "for i, title in enumerate(H.index):\n",
    "    ind = topic_df[(topic_df.title == title) & (topic_df.closest_topic == current_topic)].index.values[0]\n",
    "    topic_df.loc[ind, 'subtopic'] = H.iloc[i, 11]"
   ]
  },
  {
   "cell_type": "code",
   "execution_count": null,
   "metadata": {},
   "outputs": [],
   "source": []
  },
  {
   "cell_type": "code",
   "execution_count": 580,
   "metadata": {
    "execution": {
     "iopub.execute_input": "2020-11-11T17:58:55.387676Z",
     "iopub.status.busy": "2020-11-11T17:58:55.387366Z",
     "iopub.status.idle": "2020-11-11T17:58:55.400727Z",
     "shell.execute_reply": "2020-11-11T17:58:55.399929Z",
     "shell.execute_reply.started": "2020-11-11T17:58:55.387642Z"
    }
   },
   "outputs": [],
   "source": [
    "import matplotlib.pyplot as plt\n",
    "def plot_topic_timeline(topic, subtopic=None, subtopic_only=False):\n",
    "    if subtopic == None and subtopic_only == True:\n",
    "        raise NameError('Need to plot either a topic or subtopic\\nEither set the subtopic argument, or set subtopic_only = False')\n",
    "    \n",
    "    fig, ax = plt.subplots(figsize=(12,8))\n",
    "    year_list = []\n",
    "    article_list = []\n",
    "    subtopic_list = []\n",
    "    for i in range(1998, 2021):\n",
    "        for j in range(1, 13):\n",
    "            df_date = topic_df[(topic_df['year'] == i)]\n",
    "            \n",
    "            year_list.append(i)\n",
    "            if len(df_date) < 10:\n",
    "                article_list.append(0)\n",
    "            else:\n",
    "                mask = df_date.all_topics.apply(lambda x: any(item for item in [topic] if item in x))\n",
    "                df_subset = df_date[mask]\n",
    "                df_subtopic = df_subset[df_subset.subtopic == subtopic]\n",
    "                article_list.append(len(df_subset)/len(df_date))\n",
    "                subtopic_list.append(len(df_subtopic)/len(df_date))\n",
    "                \n",
    "    if not subtopic_only:\n",
    "        ax.plot(year_list, article_list)\n",
    "        ax.set_title(f\"Topic: {topic}\", fontsize=15)\n",
    "    else:\n",
    "        ax.set_title(f\"Topic: {subtopic}\", fontsize=15)\n",
    "    if subtopic:\n",
    "        ax.plot(year_list, subtopic_list)\n",
    "        \n",
    "\n",
    "        \n",
    "\n",
    "    ax.spines['top'].set_visible(False)\n",
    "    ax.spines['right'].set_visible(False)\n",
    "    ax.set_xlabel('Year', fontsize=14)\n",
    "    ax.set_ylabel('Topic Frequency (Fraction of Total)', fontsize=14)\n",
    "    \n",
    "    \n",
    "    \n"
   ]
  },
  {
   "cell_type": "code",
   "execution_count": 581,
   "metadata": {
    "execution": {
     "iopub.execute_input": "2020-11-11T17:58:55.573597Z",
     "iopub.status.busy": "2020-11-11T17:58:55.573334Z",
     "iopub.status.idle": "2020-11-11T17:58:56.566876Z",
     "shell.execute_reply": "2020-11-11T17:58:56.566047Z",
     "shell.execute_reply.started": "2020-11-11T17:58:55.573566Z"
    }
   },
   "outputs": [
    {
     "data": {
      "image/png": "[encoded data removed]",
      "text/plain": [
       "<Figure size 864x576 with 1 Axes>"
      ]
     },
     "metadata": {
      "needs_background": "light"
     },
     "output_type": "display_data"
    }
   ],
   "source": [
    "plot_topic_timeline('Ocean Sciences/ Geology', subtopic = 'Hurricanes, Storms, Weather', subtopic_only = True)"
   ]
  },
  {
   "cell_type": "markdown",
   "metadata": {},
   "source": [
    "### Physics subtopics"
   ]
  },
  {
   "cell_type": "code",
   "execution_count": 748,
   "metadata": {
    "execution": {
     "iopub.execute_input": "2020-11-16T19:44:03.455723Z",
     "iopub.status.busy": "2020-11-16T19:44:03.455412Z",
     "iopub.status.idle": "2020-11-16T19:44:03.489980Z",
     "shell.execute_reply": "2020-11-16T19:44:03.489221Z",
     "shell.execute_reply.started": "2020-11-16T19:44:03.455691Z"
    }
   },
   "outputs": [],
   "source": [
    "physics_df = topic_df[topic_df.closest_topic == 'Phyics/ Particle Physics/ Quantum Physics']\n",
    "\n",
    "nlp = NLPPipe(vectorizer=vectorizer, \n",
    "              tokenizer=ToktokTokenizer(),\n",
    "              cleaning_function=None, \n",
    "              stemmer=None,\n",
    "              model = None,\n",
    "              sw_list = None)\n",
    "\n",
    "nlp.fit(physics_df, cleaned = False)\n",
    "\n",
    "dtm = nlp.transform(physics_df, cleaned = True)\n",
    "\n",
    "nmf_model = NMF(14, random_state=2)\n",
    "\n",
    "doc_topic = nmf_model.fit_transform(dtm)\n",
    "\n",
    "display_topics(nmf_model, nlp.vectorizer.get_feature_names(), 20)"
   ]
  },
  {
   "cell_type": "code",
   "execution_count": 652,
   "metadata": {
    "execution": {
     "iopub.execute_input": "2020-11-11T20:40:23.717293Z",
     "iopub.status.busy": "2020-11-11T20:40:23.716933Z",
     "iopub.status.idle": "2020-11-11T20:40:23.725821Z",
     "shell.execute_reply": "2020-11-11T20:40:23.724859Z",
     "shell.execute_reply.started": "2020-11-11T20:40:23.717248Z"
    }
   },
   "outputs": [],
   "source": [
    "topic_names = ['Black Holes, Gravity, General Relativity', '?', '??', 'Particle Physics', \n",
    "               'Dark Matter', 'Atomic Physics', '???', '????', 'Nobel Prize', 'Neutrinos', 'Space Physics, Cosmic Rays', \n",
    "               'Nuclear Physics', '?????', 'Quantum Physics'] \n",
    "\n",
    "H = pd.DataFrame(doc_topic.round(5),\n",
    "             index = physics_df.title.values,\n",
    "             columns = topic_names)\n",
    "H.drop(columns=['?', '??', '???', '????', '?????'], inplace=True)"
   ]
  },
  {
   "cell_type": "code",
   "execution_count": 653,
   "metadata": {
    "execution": {
     "iopub.execute_input": "2020-11-11T20:40:43.096729Z",
     "iopub.status.busy": "2020-11-11T20:40:43.096369Z",
     "iopub.status.idle": "2020-11-11T20:40:43.100673Z",
     "shell.execute_reply": "2020-11-11T20:40:43.099576Z",
     "shell.execute_reply.started": "2020-11-11T20:40:43.096697Z"
    }
   },
   "outputs": [],
   "source": [
    "current_topic = 'Phyics/ Particle Physics/ Quantum Physics'"
   ]
  },
  {
   "cell_type": "code",
   "execution_count": 654,
   "metadata": {
    "execution": {
     "iopub.execute_input": "2020-11-11T20:40:44.910724Z",
     "iopub.status.busy": "2020-11-11T20:40:44.910235Z",
     "iopub.status.idle": "2020-11-11T20:40:53.813214Z",
     "shell.execute_reply": "2020-11-11T20:40:53.812263Z",
     "shell.execute_reply.started": "2020-11-11T20:40:44.910687Z"
    }
   },
   "outputs": [],
   "source": [
    "maxes = H.max(axis=1).values\n",
    "article_topics = []\n",
    "for i, row in enumerate(H.index):\n",
    "    top_topics = []\n",
    "    if maxes[i] == 0:\n",
    "        article_topics.append('None')\n",
    "    else:\n",
    "        for j, column in enumerate(H.columns):\n",
    "            if H.iloc[i, j] == maxes[i] and maxes[i] > 0:\n",
    "                top_topics.append(column)\n",
    "        article_topics.append(top_topics[0])\n",
    "    \n",
    "    \n",
    "H['closest_topic'] = article_topics\n",
    "\n",
    "for i, title in enumerate(H.index):\n",
    "    ind = topic_df[(topic_df.title == title) & (topic_df.closest_topic == current_topic)].index.values[0]\n",
    "    topic_df.loc[ind, 'subtopic'] = H.iloc[i, 9]"
   ]
  },
  {
   "cell_type": "markdown",
   "metadata": {},
   "source": [
    "### Neuro subtopics"
   ]
  },
  {
   "cell_type": "code",
   "execution_count": 749,
   "metadata": {
    "execution": {
     "iopub.execute_input": "2020-11-16T19:44:56.024894Z",
     "iopub.status.busy": "2020-11-16T19:44:56.023814Z",
     "iopub.status.idle": "2020-11-16T19:44:56.030060Z",
     "shell.execute_reply": "2020-11-16T19:44:56.029109Z",
     "shell.execute_reply.started": "2020-11-16T19:44:56.024838Z"
    }
   },
   "outputs": [],
   "source": [
    "current_topic = 'Neuroscience/ Behavioral Sci.'\n",
    "\n",
    "neuro_df = topic_df[topic_df.closest_topic == 'Neuroscience/ Behavioral Sci.']\n",
    "\n",
    "nlp = NLPPipe(vectorizer=vectorizer, \n",
    "              tokenizer=ToktokTokenizer(),\n",
    "              cleaning_function=None, \n",
    "              stemmer=None,\n",
    "              model = None,\n",
    "              sw_list = None)\n",
    "\n",
    "nlp.fit(neuro_df, cleaned = False)\n",
    "\n",
    "dtm = nlp.transform(neuro_df, cleaned = True)\n",
    "\n",
    "nmf_model = NMF(15, random_state=2)\n",
    "\n",
    "doc_topic = nmf_model.fit_transform(dtm)\n",
    "\n",
    "display_topics(nmf_model, nlp.vectorizer.get_feature_names(), 40)"
   ]
  },
  {
   "cell_type": "code",
   "execution_count": 656,
   "metadata": {
    "execution": {
     "iopub.execute_input": "2020-11-11T20:41:34.877198Z",
     "iopub.status.busy": "2020-11-11T20:41:34.876707Z",
     "iopub.status.idle": "2020-11-11T20:41:34.893526Z",
     "shell.execute_reply": "2020-11-11T20:41:34.892312Z",
     "shell.execute_reply.started": "2020-11-11T20:41:34.877147Z"
    }
   },
   "outputs": [],
   "source": [
    "topic_names = ['?', '??', 'Alcoholism, Obesity, Cancer, Pregnancy/Childbirth, Risk Factors', 'Academia', 'Linguistics, Speech Pathology',\n",
    "               'Reproduction, Sexual Behavior', 'Drugs, Hormones, Depression, Anxiety, PTSD', \n",
    "               'Motor Control, Neural Circuits, Sensory Processing', 'Consciousness, Brain Activity, Comas', \n",
    "               'Auditory System', 'Emotion, Emotional Disorders, Autism', 'Visual System', 'Sleep, Memory', '???', 'Olfactory System'] \n",
    "H = pd.DataFrame(doc_topic.round(5),\n",
    "             index = neuro_df.title.values,\n",
    "             columns = topic_names)\n",
    "H.drop(columns=['?', '??', 'Academia', '???'], inplace=True)"
   ]
  },
  {
   "cell_type": "code",
   "execution_count": 657,
   "metadata": {
    "execution": {
     "iopub.execute_input": "2020-11-11T20:41:55.888916Z",
     "iopub.status.busy": "2020-11-11T20:41:55.888655Z",
     "iopub.status.idle": "2020-11-11T20:42:02.571365Z",
     "shell.execute_reply": "2020-11-11T20:42:02.570289Z",
     "shell.execute_reply.started": "2020-11-11T20:41:55.888877Z"
    }
   },
   "outputs": [],
   "source": [
    "maxes = H.max(axis=1).values\n",
    "article_topics = []\n",
    "for i, row in enumerate(H.index):\n",
    "    top_topics = []\n",
    "    if maxes[i] == 0:\n",
    "        article_topics.append('None')\n",
    "    else:\n",
    "        for j, column in enumerate(H.columns):\n",
    "            if H.iloc[i, j] == maxes[i] and maxes[i] > 0:\n",
    "                top_topics.append(column)\n",
    "        article_topics.append(top_topics[0])\n",
    "    \n",
    "    \n",
    "H['closest_topic'] = article_topics\n",
    "\n",
    "for i, title in enumerate(H.index):\n",
    "    ind = topic_df[(topic_df.title == title) & (topic_df.closest_topic == current_topic)].index.values[0]\n",
    "    topic_df.loc[ind, 'subtopic'] = H.iloc[i, 11]"
   ]
  },
  {
   "cell_type": "markdown",
   "metadata": {},
   "source": [
    "### Astronomy subtopics"
   ]
  },
  {
   "cell_type": "code",
   "execution_count": 750,
   "metadata": {
    "execution": {
     "iopub.execute_input": "2020-11-16T19:45:15.685283Z",
     "iopub.status.busy": "2020-11-16T19:45:15.685000Z",
     "iopub.status.idle": "2020-11-16T19:45:15.693630Z",
     "shell.execute_reply": "2020-11-16T19:45:15.688565Z",
     "shell.execute_reply.started": "2020-11-16T19:45:15.685257Z"
    }
   },
   "outputs": [],
   "source": [
    "current_topic = 'Astronomy'\n",
    "astronomy_df = topic_df[topic_df.closest_topic == 'Astronomy']\n",
    "\n",
    "nlp = NLPPipe(vectorizer=vectorizer, \n",
    "              tokenizer=ToktokTokenizer(),\n",
    "              cleaning_function=None, \n",
    "              stemmer=None,\n",
    "              model = None,\n",
    "              sw_list = None)\n",
    "\n",
    "nlp.fit(astronomy_df, cleaned = False)\n",
    "\n",
    "dtm = nlp.transform(astronomy_df, cleaned = True)\n",
    "\n",
    "nmf_model = NMF(10, random_state=2)\n",
    "\n",
    "doc_topic = nmf_model.fit_transform(dtm)\n",
    "\n",
    "display_topics(nmf_model, nlp.vectorizer.get_feature_names(), 30)"
   ]
  },
  {
   "cell_type": "code",
   "execution_count": 659,
   "metadata": {
    "execution": {
     "iopub.execute_input": "2020-11-11T20:42:31.184958Z",
     "iopub.status.busy": "2020-11-11T20:42:31.184658Z",
     "iopub.status.idle": "2020-11-11T20:42:31.195191Z",
     "shell.execute_reply": "2020-11-11T20:42:31.194222Z",
     "shell.execute_reply.started": "2020-11-11T20:42:31.184921Z"
    }
   },
   "outputs": [],
   "source": [
    "topic_names = ['Supernovas, Cosmic Rays', '?', 'Exoplanets, Distant Planets', '??', 'Dark Matter, Cosmology', 'LIGO, Gravitational Waves', \n",
    "               'Solar System', 'Black Holes', 'Atmosphere', 'TMT Protests']\n",
    "\n",
    "H = pd.DataFrame(doc_topic.round(5),\n",
    "             index = astronomy_df.title.values,\n",
    "             columns = topic_names)\n",
    "H.drop(columns=['?', '??'], inplace=True)"
   ]
  },
  {
   "cell_type": "code",
   "execution_count": 660,
   "metadata": {
    "execution": {
     "iopub.execute_input": "2020-11-11T20:42:36.543241Z",
     "iopub.status.busy": "2020-11-11T20:42:36.542916Z",
     "iopub.status.idle": "2020-11-11T20:42:41.626373Z",
     "shell.execute_reply": "2020-11-11T20:42:41.625341Z",
     "shell.execute_reply.started": "2020-11-11T20:42:36.543205Z"
    }
   },
   "outputs": [],
   "source": [
    "maxes = H.max(axis=1).values\n",
    "article_topics = []\n",
    "for i, row in enumerate(H.index):\n",
    "    top_topics = []\n",
    "    if maxes[i] == 0:\n",
    "        article_topics.append('None')\n",
    "    else:\n",
    "        for j, column in enumerate(H.columns):\n",
    "            if H.iloc[i, j] == maxes[i] and maxes[i] > 0:\n",
    "                top_topics.append(column)\n",
    "        article_topics.append(top_topics[0])\n",
    "    \n",
    "    \n",
    "H['closest_topic'] = article_topics\n",
    "\n",
    "for i, title in enumerate(H.index):\n",
    "    ind = topic_df[(topic_df.title == title) & (topic_df.closest_topic == current_topic)].index.values[0]\n",
    "    topic_df.loc[ind, 'subtopic'] = H.iloc[i, 8]"
   ]
  },
  {
   "cell_type": "markdown",
   "metadata": {},
   "source": [
    "### Chem/Computing/Mathematics subtopics"
   ]
  },
  {
   "cell_type": "code",
   "execution_count": 751,
   "metadata": {
    "execution": {
     "iopub.execute_input": "2020-11-16T19:45:48.962096Z",
     "iopub.status.busy": "2020-11-16T19:45:48.961762Z",
     "iopub.status.idle": "2020-11-16T19:45:48.966583Z",
     "shell.execute_reply": "2020-11-16T19:45:48.965666Z",
     "shell.execute_reply.started": "2020-11-16T19:45:48.962062Z"
    }
   },
   "outputs": [],
   "source": [
    "current_topic = 'Optics/ Electronics/ Photonics/ Device Physics'\n",
    "\n",
    "device_df = topic_df[topic_df.closest_topic == 'Optics/ Electronics/ Photonics/ Device Physics']\n",
    "\n",
    "nlp = NLPPipe(vectorizer=vectorizer, \n",
    "              tokenizer=ToktokTokenizer(),\n",
    "              cleaning_function=None, \n",
    "              stemmer=None,\n",
    "              model = None,\n",
    "              sw_list = None)\n",
    "\n",
    "nlp.fit(device_df, cleaned = False)\n",
    "\n",
    "dtm = nlp.transform(device_df, cleaned = True)\n",
    "\n",
    "nmf_model = NMF(10, random_state=2)\n",
    "\n",
    "doc_topic = nmf_model.fit_transform(dtm)\n",
    "\n",
    "display_topics(nmf_model, nlp.vectorizer.get_feature_names(), 35)"
   ]
  },
  {
   "cell_type": "code",
   "execution_count": 662,
   "metadata": {
    "execution": {
     "iopub.execute_input": "2020-11-11T20:43:28.213889Z",
     "iopub.status.busy": "2020-11-11T20:43:28.213520Z",
     "iopub.status.idle": "2020-11-11T20:43:28.222771Z",
     "shell.execute_reply": "2020-11-11T20:43:28.221663Z",
     "shell.execute_reply.started": "2020-11-11T20:43:28.213848Z"
    }
   },
   "outputs": [],
   "source": [
    "topic_names = ['Chemistry', '?', 'Tech, Computing, Software', 'Quantum Computing', 'Semiconductors, Electronics', 'Light, Optics, Lasers', \n",
    "               'Superconductors, Magnetism', 'Energy, Fuel', 'Aerodynamics, Fluid Dynamics', '??']\n",
    "\n",
    "H = pd.DataFrame(doc_topic.round(5),\n",
    "             index = device_df.title.values,\n",
    "             columns = topic_names)\n",
    "H.drop(columns=['?', '??'], inplace=True)"
   ]
  },
  {
   "cell_type": "code",
   "execution_count": 663,
   "metadata": {
    "execution": {
     "iopub.execute_input": "2020-11-11T20:43:29.694358Z",
     "iopub.status.busy": "2020-11-11T20:43:29.694098Z",
     "iopub.status.idle": "2020-11-11T20:43:40.604841Z",
     "shell.execute_reply": "2020-11-11T20:43:40.604148Z",
     "shell.execute_reply.started": "2020-11-11T20:43:29.694331Z"
    }
   },
   "outputs": [],
   "source": [
    "maxes = H.max(axis=1).values\n",
    "article_topics = []\n",
    "for i, row in enumerate(H.index):\n",
    "    top_topics = []\n",
    "    if maxes[i] == 0:\n",
    "        article_topics.append('None')\n",
    "    else:\n",
    "        for j, column in enumerate(H.columns):\n",
    "            if H.iloc[i, j] == maxes[i] and maxes[i] > 0:\n",
    "                top_topics.append(column)\n",
    "        article_topics.append(top_topics[0])\n",
    "    \n",
    "    \n",
    "H['closest_topic'] = article_topics\n",
    "\n",
    "for i, title in enumerate(H.index):\n",
    "    ind = topic_df[(topic_df.title == title) & (topic_df.closest_topic == current_topic)].index.values[0]\n",
    "    topic_df.loc[ind, 'subtopic'] = H.iloc[i, 8]"
   ]
  },
  {
   "cell_type": "markdown",
   "metadata": {},
   "source": [
    "### Drug discovery subtopics"
   ]
  },
  {
   "cell_type": "code",
   "execution_count": 752,
   "metadata": {
    "execution": {
     "iopub.execute_input": "2020-11-16T19:46:07.673031Z",
     "iopub.status.busy": "2020-11-16T19:46:07.672773Z",
     "iopub.status.idle": "2020-11-16T19:46:07.703896Z",
     "shell.execute_reply": "2020-11-16T19:46:07.702851Z",
     "shell.execute_reply.started": "2020-11-16T19:46:07.673005Z"
    }
   },
   "outputs": [],
   "source": [
    "current_topic = 'Drug Discovery/ Pharmaceuticals'\n",
    "pharma_df = topic_df[topic_df.closest_topic == 'Drug Discovery/ Pharmaceuticals']\n",
    "\n",
    "nlp = NLPPipe(vectorizer=vectorizer, \n",
    "              tokenizer=ToktokTokenizer(),\n",
    "              cleaning_function=None, \n",
    "              stemmer=None,\n",
    "              model = None,\n",
    "              sw_list = None)\n",
    "\n",
    "nlp.fit(pharma_df, cleaned = False)\n",
    "\n",
    "dtm = nlp.transform(pharma_df, cleaned = True)\n",
    "\n",
    "nmf_model = NMF(10, random_state=2)\n",
    "\n",
    "doc_topic = nmf_model.fit_transform(dtm)\n",
    "\n",
    "display_topics(nmf_model, nlp.vectorizer.get_feature_names(), 30)"
   ]
  },
  {
   "cell_type": "code",
   "execution_count": 665,
   "metadata": {
    "execution": {
     "iopub.execute_input": "2020-11-11T20:44:15.636143Z",
     "iopub.status.busy": "2020-11-11T20:44:15.635913Z",
     "iopub.status.idle": "2020-11-11T20:44:19.704203Z",
     "shell.execute_reply": "2020-11-11T20:44:19.703280Z",
     "shell.execute_reply.started": "2020-11-11T20:44:15.636118Z"
    }
   },
   "outputs": [],
   "source": [
    "topic_names = ['Cancer, Alzheimers', '?', '??', 'Infectious Diseases', 'Pharmaceutical Industry', \n",
    "              'Immunodeficiencies, Gene Therapy', 'Heart Disease, Cholesterol, Strokes, Diabetes', \n",
    "              'Mental Health, Depression, Suicide', '???', 'COVID Vaccinations/Regulations']\n",
    "\n",
    "\n",
    "H = pd.DataFrame(doc_topic.round(5),\n",
    "             index = pharma_df.title.values,\n",
    "             columns = topic_names)\n",
    "H.drop(columns=['?', '??', '???'], inplace=True)\n",
    "\n",
    "maxes = H.max(axis=1).values\n",
    "article_topics = []\n",
    "for i, row in enumerate(H.index):\n",
    "    top_topics = []\n",
    "    if maxes[i] == 0:\n",
    "        article_topics.append('None')\n",
    "    else:\n",
    "        for j, column in enumerate(H.columns):\n",
    "            if H.iloc[i, j] == maxes[i] and maxes[i] > 0:\n",
    "                top_topics.append(column)\n",
    "        article_topics.append(top_topics[0])\n",
    "    \n",
    "    \n",
    "H['closest_topic'] = article_topics\n",
    "\n",
    "for i, title in enumerate(H.index):\n",
    "    ind = topic_df[(topic_df.title == title) & (topic_df.closest_topic == current_topic)].index.values[0]\n",
    "    topic_df.loc[ind, 'subtopic'] = H.iloc[i, 7]"
   ]
  },
  {
   "cell_type": "markdown",
   "metadata": {},
   "source": [
    "### Research/Funding subtopics"
   ]
  },
  {
   "cell_type": "code",
   "execution_count": 753,
   "metadata": {
    "execution": {
     "iopub.execute_input": "2020-11-16T19:46:38.342786Z",
     "iopub.status.busy": "2020-11-16T19:46:38.342527Z",
     "iopub.status.idle": "2020-11-16T19:46:38.348074Z",
     "shell.execute_reply": "2020-11-16T19:46:38.347115Z",
     "shell.execute_reply.started": "2020-11-16T19:46:38.342757Z"
    }
   },
   "outputs": [],
   "source": [
    "current_topic = 'Research/ Funding/ Grants'\n",
    "research_df = topic_df[topic_df.closest_topic == 'Research/ Funding/ Grants']\n",
    "\n",
    "nlp = NLPPipe(vectorizer=vectorizer, \n",
    "              tokenizer=ToktokTokenizer(),\n",
    "              cleaning_function=None, \n",
    "              stemmer=None,\n",
    "              model = None,\n",
    "              sw_list = None)\n",
    "\n",
    "nlp.fit(research_df, cleaned = False)\n",
    "\n",
    "dtm = nlp.transform(research_df, cleaned = True)\n",
    "\n",
    "nmf_model = NMF(5, random_state=2)\n",
    "\n",
    "doc_topic = nmf_model.fit_transform(dtm)\n",
    "\n",
    "display_topics(nmf_model, nlp.vectorizer.get_feature_names(), 30)"
   ]
  },
  {
   "cell_type": "markdown",
   "metadata": {},
   "source": [
    "Did not get good subtopics: Articles with this as their topic won't be broken up further"
   ]
  },
  {
   "cell_type": "code",
   "execution_count": 667,
   "metadata": {
    "execution": {
     "iopub.execute_input": "2020-11-11T20:44:54.113000Z",
     "iopub.status.busy": "2020-11-11T20:44:54.112555Z",
     "iopub.status.idle": "2020-11-11T20:45:05.090331Z",
     "shell.execute_reply": "2020-11-11T20:45:05.089598Z",
     "shell.execute_reply.started": "2020-11-11T20:44:54.112940Z"
    }
   },
   "outputs": [],
   "source": [
    "topic_names = ['None', 'None', 'None', 'None', 'None']\n",
    "\n",
    "\n",
    "H = pd.DataFrame(doc_topic.round(5),\n",
    "             index = research_df.title.values,\n",
    "             columns = topic_names)\n",
    "# H.drop(columns=['?', '??', '???'], inplace=True)\n",
    "\n",
    "maxes = H.max(axis=1).values\n",
    "article_topics = []\n",
    "for i, row in enumerate(H.index):\n",
    "    top_topics = []\n",
    "    if maxes[i] == 0:\n",
    "        article_topics.append('None')\n",
    "    else:\n",
    "        for j, column in enumerate(H.columns):\n",
    "            if H.iloc[i, j] == maxes[i] and maxes[i] > 0:\n",
    "                top_topics.append(column)\n",
    "        article_topics.append(top_topics[0])\n",
    "    \n",
    "    \n",
    "H['closest_topic'] = article_topics\n",
    "\n",
    "for i, title in enumerate(H.index):\n",
    "    ind = topic_df[(topic_df.title == title) & (topic_df.closest_topic == current_topic)].index.values[0]\n",
    "    topic_df.loc[ind, 'subtopic'] = H.iloc[i, 5]"
   ]
  },
  {
   "cell_type": "markdown",
   "metadata": {},
   "source": [
    "### Genetics subtopics"
   ]
  },
  {
   "cell_type": "code",
   "execution_count": 754,
   "metadata": {
    "execution": {
     "iopub.execute_input": "2020-11-16T19:47:35.893870Z",
     "iopub.status.busy": "2020-11-16T19:47:35.893596Z",
     "iopub.status.idle": "2020-11-16T19:47:35.898144Z",
     "shell.execute_reply": "2020-11-16T19:47:35.897003Z",
     "shell.execute_reply.started": "2020-11-16T19:47:35.893840Z"
    }
   },
   "outputs": [],
   "source": [
    "current_topic = 'Genetics/Genomics'\n",
    "gene_df = topic_df[topic_df.closest_topic == 'Genetics/Genomics']\n",
    "\n",
    "nlp = NLPPipe(vectorizer=vectorizer, \n",
    "              tokenizer=ToktokTokenizer(),\n",
    "              cleaning_function=None, \n",
    "              stemmer=None,\n",
    "              model = None,\n",
    "              sw_list = None)\n",
    "\n",
    "nlp.fit(gene_df, cleaned = False)\n",
    "\n",
    "dtm = nlp.transform(gene_df, cleaned = True)\n",
    "\n",
    "nmf_model = NMF(10, random_state=2)\n",
    "\n",
    "doc_topic = nmf_model.fit_transform(dtm)\n",
    "\n",
    "display_topics(nmf_model, nlp.vectorizer.get_feature_names(), 30)"
   ]
  },
  {
   "cell_type": "code",
   "execution_count": 669,
   "metadata": {
    "execution": {
     "iopub.execute_input": "2020-11-11T20:45:18.485058Z",
     "iopub.status.busy": "2020-11-11T20:45:18.484688Z",
     "iopub.status.idle": "2020-11-11T20:45:24.281470Z",
     "shell.execute_reply": "2020-11-11T20:45:24.280754Z",
     "shell.execute_reply.started": "2020-11-11T20:45:18.485011Z"
    }
   },
   "outputs": [],
   "source": [
    "topic_names = ['?', 'Genomics, Human Genome Project', 'Cancer Genetics', 'Gene Editing, CRISPR-Cas Systems', \n",
    "               '??', 'Sequencing', 'Evolutionary Biology', 'Population Genetics', 'Microbial Genetics', \n",
    "               '???']\n",
    "\n",
    "\n",
    "H = pd.DataFrame(doc_topic.round(5),\n",
    "             index = gene_df.title.values,\n",
    "             columns = topic_names)\n",
    "H.drop(columns=['?', '??', '???'], inplace=True)\n",
    "\n",
    "maxes = H.max(axis=1).values\n",
    "article_topics = []\n",
    "for i, row in enumerate(H.index):\n",
    "    top_topics = []\n",
    "    if maxes[i] == 0:\n",
    "        article_topics.append('None')\n",
    "    else:\n",
    "        for j, column in enumerate(H.columns):\n",
    "            if H.iloc[i, j] == maxes[i] and maxes[i] > 0:\n",
    "                top_topics.append(column)\n",
    "        article_topics.append(top_topics[0])\n",
    "    \n",
    "    \n",
    "H['closest_topic'] = article_topics\n",
    "\n",
    "for i, title in enumerate(H.index):\n",
    "    ind = topic_df[(topic_df.title == title) & (topic_df.closest_topic == current_topic)].index.values[0]\n",
    "    topic_df.loc[ind, 'subtopic'] = H.iloc[i, 7]"
   ]
  },
  {
   "cell_type": "markdown",
   "metadata": {},
   "source": [
    "### Ocean Science subtopics"
   ]
  },
  {
   "cell_type": "code",
   "execution_count": 755,
   "metadata": {
    "execution": {
     "iopub.execute_input": "2020-11-16T19:47:57.307041Z",
     "iopub.status.busy": "2020-11-16T19:47:57.306786Z",
     "iopub.status.idle": "2020-11-16T19:47:57.310806Z",
     "shell.execute_reply": "2020-11-16T19:47:57.309902Z",
     "shell.execute_reply.started": "2020-11-16T19:47:57.307012Z"
    }
   },
   "outputs": [],
   "source": [
    "current_topic = 'Ocean Sciences/ Geology'\n",
    "ocean_df = topic_df[topic_df.closest_topic == 'Ocean Sciences/ Geology']\n",
    "\n",
    "nlp = NLPPipe(vectorizer=vectorizer, \n",
    "              tokenizer=ToktokTokenizer(),\n",
    "              cleaning_function=None, \n",
    "              stemmer=None,\n",
    "              model = None,\n",
    "              sw_list = None)\n",
    "\n",
    "nlp.fit(ocean_df, cleaned = False)\n",
    "\n",
    "dtm = nlp.transform(ocean_df, cleaned = True)\n",
    "\n",
    "nmf_model = NMF(10, random_state=2)\n",
    "\n",
    "doc_topic = nmf_model.fit_transform(dtm)\n",
    "\n",
    "display_topics(nmf_model, nlp.vectorizer.get_feature_names(), 30)"
   ]
  },
  {
   "cell_type": "code",
   "execution_count": 671,
   "metadata": {
    "execution": {
     "iopub.execute_input": "2020-11-11T20:46:13.241940Z",
     "iopub.status.busy": "2020-11-11T20:46:13.241658Z",
     "iopub.status.idle": "2020-11-11T20:46:20.643753Z",
     "shell.execute_reply": "2020-11-11T20:46:20.643042Z",
     "shell.execute_reply.started": "2020-11-11T20:46:13.241905Z"
    }
   },
   "outputs": [],
   "source": [
    "topic_names = ['?', 'Seismology, Tectonics', 'Glaciology, Antarctica, Global Warming', \n",
    "              'Marine Biology, Marine Chemistry', '??', 'Pollution, Oil Spills, Environmental Impact', \n",
    "              'Hurricanes, Storms, Weather', 'Volcanology', '???', 'Tsunamis']\n",
    "\n",
    "\n",
    "H = pd.DataFrame(doc_topic.round(5),\n",
    "             index = ocean_df.title.values,\n",
    "             columns = topic_names)\n",
    "H.drop(columns=['?', '??', '???'], inplace=True)\n",
    "\n",
    "maxes = H.max(axis=1).values\n",
    "article_topics = []\n",
    "for i, row in enumerate(H.index):\n",
    "    top_topics = []\n",
    "    if maxes[i] == 0:\n",
    "        article_topics.append('None')\n",
    "    else:\n",
    "        for j, column in enumerate(H.columns):\n",
    "            if H.iloc[i, j] == maxes[i] and maxes[i] > 0:\n",
    "                top_topics.append(column)\n",
    "        article_topics.append(top_topics[0])\n",
    "    \n",
    "    \n",
    "H['closest_topic'] = article_topics\n",
    "\n",
    "for i, title in enumerate(H.index):\n",
    "    ind = topic_df[(topic_df.title == title) & (topic_df.closest_topic == current_topic)].index.values[0]\n",
    "    topic_df.loc[ind, 'subtopic'] = H.iloc[i, 7]"
   ]
  },
  {
   "cell_type": "markdown",
   "metadata": {},
   "source": [
    "### Govt/Policy subtopics"
   ]
  },
  {
   "cell_type": "markdown",
   "metadata": {},
   "source": [
    "Did not get good subtopics.  Articles with this topic won't be broken up further"
   ]
  },
  {
   "cell_type": "code",
   "execution_count": 756,
   "metadata": {
    "execution": {
     "iopub.execute_input": "2020-11-16T19:48:16.131722Z",
     "iopub.status.busy": "2020-11-16T19:48:16.131452Z",
     "iopub.status.idle": "2020-11-16T19:48:16.135346Z",
     "shell.execute_reply": "2020-11-16T19:48:16.134272Z",
     "shell.execute_reply.started": "2020-11-16T19:48:16.131691Z"
    }
   },
   "outputs": [],
   "source": [
    "current_topic = 'Government/ Policy'\n",
    "policy_df = topic_df[topic_df.closest_topic == 'Government/ Policy']\n",
    "\n",
    "nlp = NLPPipe(vectorizer=vectorizer, \n",
    "              tokenizer=ToktokTokenizer(),\n",
    "              cleaning_function=None, \n",
    "              stemmer=None,\n",
    "              model = None,\n",
    "              sw_list = None)\n",
    "\n",
    "nlp.fit(policy_df, cleaned = False)\n",
    "\n",
    "dtm = nlp.transform(policy_df, cleaned = True)\n",
    "\n",
    "nmf_model = NMF(5, random_state=2)\n",
    "\n",
    "doc_topic = nmf_model.fit_transform(dtm)\n",
    "\n",
    "display_topics(nmf_model, nlp.vectorizer.get_feature_names(), 30)"
   ]
  },
  {
   "cell_type": "code",
   "execution_count": 673,
   "metadata": {
    "execution": {
     "iopub.execute_input": "2020-11-11T20:46:50.951952Z",
     "iopub.status.busy": "2020-11-11T20:46:50.951598Z",
     "iopub.status.idle": "2020-11-11T20:47:01.606686Z",
     "shell.execute_reply": "2020-11-11T20:47:01.605868Z",
     "shell.execute_reply.started": "2020-11-11T20:46:50.951916Z"
    }
   },
   "outputs": [],
   "source": [
    "topic_names = ['None', 'None', 'None', 'None', 'None']\n",
    "\n",
    "\n",
    "H = pd.DataFrame(doc_topic.round(5),\n",
    "             index = policy_df.title.values,\n",
    "             columns = topic_names)\n",
    "# H.drop(columns=['?', '??', '???'], inplace=True)\n",
    "\n",
    "maxes = H.max(axis=1).values\n",
    "article_topics = []\n",
    "for i, row in enumerate(H.index):\n",
    "    top_topics = []\n",
    "    if maxes[i] == 0:\n",
    "        article_topics.append('None')\n",
    "    else:\n",
    "        for j, column in enumerate(H.columns):\n",
    "            if H.iloc[i, j] == maxes[i] and maxes[i] > 0:\n",
    "                top_topics.append(column)\n",
    "        article_topics.append(top_topics[0])\n",
    "    \n",
    "    \n",
    "H['closest_topic'] = article_topics\n",
    "\n",
    "for i, title in enumerate(H.index):\n",
    "    ind = topic_df[(topic_df.title == title) & (topic_df.closest_topic == current_topic)].index.values[0]\n",
    "    topic_df.loc[ind, 'subtopic'] = H.iloc[i, 5]"
   ]
  },
  {
   "cell_type": "markdown",
   "metadata": {},
   "source": [
    "### Stem Cell subtopics"
   ]
  },
  {
   "cell_type": "code",
   "execution_count": 757,
   "metadata": {
    "execution": {
     "iopub.execute_input": "2020-11-16T19:49:03.587119Z",
     "iopub.status.busy": "2020-11-16T19:49:03.586777Z",
     "iopub.status.idle": "2020-11-16T19:49:03.591347Z",
     "shell.execute_reply": "2020-11-16T19:49:03.590366Z",
     "shell.execute_reply.started": "2020-11-16T19:49:03.587064Z"
    }
   },
   "outputs": [],
   "source": [
    "current_topic = 'Stem Cells/ Cloning'\n",
    "stem_df = topic_df[topic_df.closest_topic == 'Stem Cells/ Cloning']\n",
    "\n",
    "nlp = NLPPipe(vectorizer=vectorizer, \n",
    "              tokenizer=ToktokTokenizer(),\n",
    "              cleaning_function=None, \n",
    "              stemmer=None,\n",
    "              model = None,\n",
    "              sw_list = None)\n",
    "\n",
    "nlp.fit(stem_df, cleaned = False)\n",
    "\n",
    "dtm = nlp.transform(stem_df, cleaned = True)\n",
    "\n",
    "nmf_model = NMF(10, random_state=2)\n",
    "\n",
    "doc_topic = nmf_model.fit_transform(dtm)\n",
    "\n",
    "# display_topics(nmf_model, nlp.vectorizer.get_feature_names(), 30)"
   ]
  },
  {
   "cell_type": "code",
   "execution_count": 675,
   "metadata": {
    "execution": {
     "iopub.execute_input": "2020-11-11T20:47:22.470456Z",
     "iopub.status.busy": "2020-11-11T20:47:22.470147Z",
     "iopub.status.idle": "2020-11-11T20:47:27.505004Z",
     "shell.execute_reply": "2020-11-11T20:47:27.504189Z",
     "shell.execute_reply.started": "2020-11-11T20:47:22.470422Z"
    }
   },
   "outputs": [],
   "source": [
    "topic_names = ['Bone Marrow Transplant, Heart/Neural Stem Cells', '?', 'IVF, Embryonic Stem Cells', \n",
    "               'Stem Cell Controversies', '??',\n",
    "               'Gene Editing, CRISPR-Cas Systems', 'Stem Cell Controversies', 'Cloning', \n",
    "               'Pluripotent Stem Cells', '???']\n",
    "\n",
    "\n",
    "H = pd.DataFrame(doc_topic.round(5),\n",
    "             index = stem_df.title.values,\n",
    "             columns = topic_names)\n",
    "H.drop(columns=['?', '??', '???'], inplace=True)\n",
    "\n",
    "maxes = H.max(axis=1).values\n",
    "article_topics = []\n",
    "for i, row in enumerate(H.index):\n",
    "    top_topics = []\n",
    "    if maxes[i] == 0:\n",
    "        article_topics.append('None')\n",
    "    else:\n",
    "        for j, column in enumerate(H.columns):\n",
    "            if H.iloc[i, j] == maxes[i] and maxes[i] > 0:\n",
    "                top_topics.append(column)\n",
    "        article_topics.append(top_topics[0])\n",
    "    \n",
    "    \n",
    "H['closest_topic'] = article_topics\n",
    "\n",
    "for i, title in enumerate(H.index):\n",
    "    ind = topic_df[(topic_df.title == title) & (topic_df.closest_topic == current_topic)].index.values[0]\n",
    "    topic_df.loc[ind, 'subtopic'] = H.iloc[i, 7]"
   ]
  },
  {
   "cell_type": "markdown",
   "metadata": {},
   "source": [
    "### Agriculture/Plant Science subtopics"
   ]
  },
  {
   "cell_type": "code",
   "execution_count": 758,
   "metadata": {
    "execution": {
     "iopub.execute_input": "2020-11-16T19:49:25.411373Z",
     "iopub.status.busy": "2020-11-16T19:49:25.411029Z",
     "iopub.status.idle": "2020-11-16T19:49:25.416537Z",
     "shell.execute_reply": "2020-11-16T19:49:25.415860Z",
     "shell.execute_reply.started": "2020-11-16T19:49:25.411340Z"
    }
   },
   "outputs": [],
   "source": [
    "current_topic = 'Agriculture/ Plant Sciences'\n",
    "plant_df = topic_df[topic_df.closest_topic == 'Agriculture/ Plant Sciences']\n",
    "\n",
    "nlp = NLPPipe(vectorizer=vectorizer, \n",
    "              tokenizer=ToktokTokenizer(),\n",
    "              cleaning_function=None, \n",
    "              stemmer=None,\n",
    "              model = None,\n",
    "              sw_list = None)\n",
    "\n",
    "nlp.fit(plant_df, cleaned = False)\n",
    "\n",
    "dtm = nlp.transform(plant_df, cleaned = True)\n",
    "\n",
    "nmf_model = NMF(10, random_state=2)\n",
    "\n",
    "doc_topic = nmf_model.fit_transform(dtm)\n",
    "\n",
    "display_topics(nmf_model, nlp.vectorizer.get_feature_names(), 30)"
   ]
  },
  {
   "cell_type": "code",
   "execution_count": 677,
   "metadata": {
    "execution": {
     "iopub.execute_input": "2020-11-11T20:48:05.597122Z",
     "iopub.status.busy": "2020-11-11T20:48:05.596769Z",
     "iopub.status.idle": "2020-11-11T20:48:12.579416Z",
     "shell.execute_reply": "2020-11-11T20:48:12.578541Z",
     "shell.execute_reply.started": "2020-11-11T20:48:05.597065Z"
    }
   },
   "outputs": [],
   "source": [
    "topic_names = ['Plant Genetics, Plant Breeding', '?', '??', 'GMOs, Plant Biotechnology', \n",
    "               'Pests, Toxins, Bacteria', '???', 'Food and Drug Administration', \n",
    "               'Chemicals, Pollution, Environmental Impact', '????', '?????']\n",
    "\n",
    "\n",
    "H = pd.DataFrame(doc_topic.round(5),\n",
    "             index = plant_df.title.values,\n",
    "             columns = topic_names)\n",
    "H.drop(columns=['?', '??', '???', '????', '?????'], inplace=True)\n",
    "\n",
    "maxes = H.max(axis=1).values\n",
    "article_topics = []\n",
    "for i, row in enumerate(H.index):\n",
    "    top_topics = []\n",
    "    if maxes[i] == 0:\n",
    "        article_topics.append('None')\n",
    "    else:\n",
    "        for j, column in enumerate(H.columns):\n",
    "            if H.iloc[i, j] == maxes[i] and maxes[i] > 0:\n",
    "                top_topics.append(column)\n",
    "        article_topics.append(top_topics[0])\n",
    "    \n",
    "    \n",
    "H['closest_topic'] = article_topics\n",
    "\n",
    "for i, title in enumerate(H.index):\n",
    "    ind = topic_df[(topic_df.title == title) & (topic_df.closest_topic == current_topic)].index.values[0]\n",
    "    topic_df.loc[ind, 'subtopic'] = H.iloc[i, 5]"
   ]
  },
  {
   "cell_type": "markdown",
   "metadata": {},
   "source": [
    "### Cellular Bio subtopics"
   ]
  },
  {
   "cell_type": "code",
   "execution_count": 759,
   "metadata": {
    "execution": {
     "iopub.execute_input": "2020-11-16T19:50:02.576987Z",
     "iopub.status.busy": "2020-11-16T19:50:02.576703Z",
     "iopub.status.idle": "2020-11-16T19:50:02.580693Z",
     "shell.execute_reply": "2020-11-16T19:50:02.579602Z",
     "shell.execute_reply.started": "2020-11-16T19:50:02.576958Z"
    }
   },
   "outputs": [],
   "source": [
    "current_topic = 'Cellular Bio./ Molecular Bio.'\n",
    "cell_df = topic_df[topic_df.closest_topic == 'Cellular Bio./ Molecular Bio.']\n",
    "\n",
    "nlp = NLPPipe(vectorizer=vectorizer, \n",
    "              tokenizer=ToktokTokenizer(),\n",
    "              cleaning_function=None, \n",
    "              stemmer=None,\n",
    "              model = None,\n",
    "              sw_list = None)\n",
    "\n",
    "nlp.fit(cell_df, cleaned = False)\n",
    "\n",
    "dtm = nlp.transform(cell_df, cleaned = True)\n",
    "\n",
    "nmf_model = NMF(12, random_state=2)\n",
    "\n",
    "doc_topic = nmf_model.fit_transform(dtm)\n",
    "\n",
    "# display_topics(nmf_model, nlp.vectorizer.get_feature_names(), 30)"
   ]
  },
  {
   "cell_type": "code",
   "execution_count": 679,
   "metadata": {
    "execution": {
     "iopub.execute_input": "2020-11-11T20:49:08.645679Z",
     "iopub.status.busy": "2020-11-11T20:49:08.645413Z",
     "iopub.status.idle": "2020-11-11T20:49:19.102264Z",
     "shell.execute_reply": "2020-11-11T20:49:19.101413Z",
     "shell.execute_reply.started": "2020-11-11T20:49:08.645649Z"
    }
   },
   "outputs": [],
   "source": [
    "topic_names = ['?', 'Genetics, DNA/RNA', '??', 'Bacteria', \n",
    "              'Neurodegenerative Diseases', '???', 'Cellular Neuroscience', 'Cancer', 'Viruses', \n",
    "              'Transferrin, Iron overload, Hereditary Diseases', 'Obesity, Diabetes, Blood Disorders',\n",
    "              'Alzheimers Disease, Dementia, Parkinsons Disease']\n",
    "\n",
    "\n",
    "H = pd.DataFrame(doc_topic.round(5),\n",
    "             index = cell_df.title.values,\n",
    "             columns = topic_names)\n",
    "H.drop(columns=['?', '??', '???'], inplace=True)\n",
    "\n",
    "maxes = H.max(axis=1).values\n",
    "article_topics = []\n",
    "for i, row in enumerate(H.index):\n",
    "    top_topics = []\n",
    "    if maxes[i] == 0:\n",
    "        article_topics.append('None')\n",
    "    else:\n",
    "        for j, column in enumerate(H.columns):\n",
    "            if H.iloc[i, j] == maxes[i] and maxes[i] > 0:\n",
    "                top_topics.append(column)\n",
    "        article_topics.append(top_topics[0])\n",
    "    \n",
    "    \n",
    "H['closest_topic'] = article_topics\n",
    "\n",
    "for i, title in enumerate(H.index):\n",
    "    ind = topic_df[(topic_df.title == title) & (topic_df.closest_topic == current_topic)].index.values[0]\n",
    "    topic_df.loc[ind, 'subtopic'] = H.iloc[i, 9]"
   ]
  },
  {
   "cell_type": "markdown",
   "metadata": {},
   "source": [
    "### Evolution subtopics"
   ]
  },
  {
   "cell_type": "code",
   "execution_count": 760,
   "metadata": {
    "execution": {
     "iopub.execute_input": "2020-11-16T19:50:20.264487Z",
     "iopub.status.busy": "2020-11-16T19:50:20.264231Z",
     "iopub.status.idle": "2020-11-16T19:50:20.267988Z",
     "shell.execute_reply": "2020-11-16T19:50:20.267048Z",
     "shell.execute_reply.started": "2020-11-16T19:50:20.264459Z"
    }
   },
   "outputs": [],
   "source": [
    "current_topic = 'Evolution/ Archaeology'\n",
    "evolution_df = topic_df[topic_df.closest_topic == 'Evolution/ Archaeology']\n",
    "\n",
    "nlp = NLPPipe(vectorizer=vectorizer, \n",
    "              tokenizer=ToktokTokenizer(),\n",
    "              cleaning_function=None, \n",
    "              stemmer=None,\n",
    "              model = None,\n",
    "              sw_list = None)\n",
    "\n",
    "nlp.fit(evolution_df, cleaned = False)\n",
    "\n",
    "dtm = nlp.transform(evolution_df, cleaned = True)\n",
    "\n",
    "nmf_model = NMF(8, random_state=2)\n",
    "\n",
    "doc_topic = nmf_model.fit_transform(dtm)\n",
    "\n",
    "# display_topics(nmf_model, nlp.vectorizer.get_feature_names(), 30)"
   ]
  },
  {
   "cell_type": "code",
   "execution_count": 681,
   "metadata": {
    "execution": {
     "iopub.execute_input": "2020-11-11T20:49:40.638922Z",
     "iopub.status.busy": "2020-11-11T20:49:40.638577Z",
     "iopub.status.idle": "2020-11-11T20:49:50.675590Z",
     "shell.execute_reply": "2020-11-11T20:49:50.674674Z",
     "shell.execute_reply.started": "2020-11-11T20:49:40.638877Z"
    }
   },
   "outputs": [],
   "source": [
    "topic_names = ['Animal Evolution', '?', 'Evolutionary Genetics', 'Geology', \n",
    "              '??', 'Homo Sapiens, Anthropology', 'Paleontology', \n",
    "              'Archaeology']\n",
    "\n",
    "H = pd.DataFrame(doc_topic.round(5),\n",
    "             index = evolution_df.title.values,\n",
    "             columns = topic_names)\n",
    "H.drop(columns=['?', '??'], inplace=True)\n",
    "\n",
    "maxes = H.max(axis=1).values\n",
    "article_topics = []\n",
    "for i, row in enumerate(H.index):\n",
    "    top_topics = []\n",
    "    if maxes[i] == 0:\n",
    "        article_topics.append('None')\n",
    "    else:\n",
    "        for j, column in enumerate(H.columns):\n",
    "            if H.iloc[i, j] == maxes[i] and maxes[i] > 0:\n",
    "                top_topics.append(column)\n",
    "        article_topics.append(top_topics[0])\n",
    "    \n",
    "    \n",
    "H['closest_topic'] = article_topics\n",
    "\n",
    "for i, title in enumerate(H.index):\n",
    "    ind = topic_df[(topic_df.title == title) & (topic_df.closest_topic == current_topic)].index.values[0]\n",
    "    topic_df.loc[ind, 'subtopic'] = H.iloc[i, 6]"
   ]
  },
  {
   "cell_type": "markdown",
   "metadata": {},
   "source": [
    "### Space travel subtopics"
   ]
  },
  {
   "cell_type": "code",
   "execution_count": 761,
   "metadata": {
    "execution": {
     "iopub.execute_input": "2020-11-16T19:50:41.694489Z",
     "iopub.status.busy": "2020-11-16T19:50:41.694177Z",
     "iopub.status.idle": "2020-11-16T19:50:41.699356Z",
     "shell.execute_reply": "2020-11-16T19:50:41.698693Z",
     "shell.execute_reply.started": "2020-11-16T19:50:41.694453Z"
    }
   },
   "outputs": [],
   "source": [
    "current_topic = 'Space Travel/ Exploration'\n",
    "space_df = topic_df[topic_df.closest_topic == 'Space Travel/ Exploration']\n",
    "\n",
    "nlp = NLPPipe(vectorizer=vectorizer, \n",
    "              tokenizer=ToktokTokenizer(),\n",
    "              cleaning_function=None, \n",
    "              stemmer=None,\n",
    "              model = None,\n",
    "              sw_list = None)\n",
    "\n",
    "nlp.fit(space_df, cleaned = False)\n",
    "\n",
    "dtm = nlp.transform(space_df, cleaned = True)\n",
    "\n",
    "nmf_model = NMF(10, random_state=2)\n",
    "\n",
    "doc_topic = nmf_model.fit_transform(dtm)\n",
    "\n",
    "# display_topics(nmf_model, nlp.vectorizer.get_feature_names(), 30)"
   ]
  },
  {
   "cell_type": "code",
   "execution_count": 683,
   "metadata": {
    "execution": {
     "iopub.execute_input": "2020-11-11T20:50:11.690786Z",
     "iopub.status.busy": "2020-11-11T20:50:11.690492Z",
     "iopub.status.idle": "2020-11-11T20:50:11.695645Z",
     "shell.execute_reply": "2020-11-11T20:50:11.694645Z",
     "shell.execute_reply.started": "2020-11-11T20:50:11.690749Z"
    }
   },
   "outputs": [],
   "source": [
    "topic_names = ['Atmospheric Dynamics, Satellites', '?', 'Mars', 'Spaceflight Disasters', \n",
    "              'European Space Agency', 'Asteroids, Comets, Outer Planets', 'Moon, Rockets, Space Expeditions',\n",
    "              'Giant Planets', '??', '???']"
   ]
  },
  {
   "cell_type": "code",
   "execution_count": 684,
   "metadata": {
    "execution": {
     "iopub.execute_input": "2020-11-11T20:50:31.153279Z",
     "iopub.status.busy": "2020-11-11T20:50:31.153021Z",
     "iopub.status.idle": "2020-11-11T20:50:38.467379Z",
     "shell.execute_reply": "2020-11-11T20:50:38.466601Z",
     "shell.execute_reply.started": "2020-11-11T20:50:31.153252Z"
    }
   },
   "outputs": [],
   "source": [
    "H = pd.DataFrame(doc_topic.round(5),\n",
    "             index = space_df.title.values,\n",
    "             columns = topic_names)\n",
    "H.drop(columns=['?', '??', '???'], inplace=True)\n",
    "\n",
    "maxes = H.max(axis=1).values\n",
    "article_topics = []\n",
    "for i, row in enumerate(H.index):\n",
    "    top_topics = []\n",
    "    if maxes[i] == 0:\n",
    "        article_topics.append('None')\n",
    "    else:\n",
    "        for j, column in enumerate(H.columns):\n",
    "            if H.iloc[i, j] == maxes[i] and maxes[i] > 0:\n",
    "                top_topics.append(column)\n",
    "        article_topics.append(top_topics[0])\n",
    "    \n",
    "    \n",
    "H['closest_topic'] = article_topics\n",
    "\n",
    "for i, title in enumerate(H.index):\n",
    "    ind = topic_df[(topic_df.title == title) & (topic_df.closest_topic == current_topic)].index.values[0]\n",
    "    topic_df.loc[ind, 'subtopic'] = H.iloc[i, 7]"
   ]
  },
  {
   "cell_type": "markdown",
   "metadata": {},
   "source": [
    "### Wildlife/Biodiversity Subtopics"
   ]
  },
  {
   "cell_type": "code",
   "execution_count": 762,
   "metadata": {
    "execution": {
     "iopub.execute_input": "2020-11-16T19:51:02.566182Z",
     "iopub.status.busy": "2020-11-16T19:51:02.565843Z",
     "iopub.status.idle": "2020-11-16T19:51:02.571348Z",
     "shell.execute_reply": "2020-11-16T19:51:02.570232Z",
     "shell.execute_reply.started": "2020-11-16T19:51:02.566153Z"
    }
   },
   "outputs": [],
   "source": [
    "current_topic = 'Wildlife/ Conservation/ Biodiversity'\n",
    "wildlife_df = topic_df[topic_df.closest_topic == 'Wildlife/ Conservation/ Biodiversity']\n",
    "\n",
    "nlp = NLPPipe(vectorizer=vectorizer, \n",
    "              tokenizer=ToktokTokenizer(),\n",
    "              cleaning_function=None, \n",
    "              stemmer=None,\n",
    "              model = None,\n",
    "              sw_list = None)\n",
    "\n",
    "nlp.fit(wildlife_df, cleaned = False)\n",
    "\n",
    "dtm = nlp.transform(wildlife_df, cleaned = True)\n",
    "\n",
    "nmf_model = NMF(12, random_state=2)\n",
    "\n",
    "doc_topic = nmf_model.fit_transform(dtm)\n",
    "\n",
    "# display_topics(nmf_model, nlp.vectorizer.get_feature_names(), 30)"
   ]
  },
  {
   "cell_type": "code",
   "execution_count": 689,
   "metadata": {
    "execution": {
     "iopub.execute_input": "2020-11-11T20:51:57.864709Z",
     "iopub.status.busy": "2020-11-11T20:51:57.864461Z",
     "iopub.status.idle": "2020-11-11T20:51:57.869727Z",
     "shell.execute_reply": "2020-11-11T20:51:57.868900Z",
     "shell.execute_reply.started": "2020-11-11T20:51:57.864664Z"
    }
   },
   "outputs": [],
   "source": [
    "topic_names = ['Biodiversity', 'Sexual Selection, Reproduction', 'Marine Conservation', \n",
    "              'Endangered Species', '?', 'Birds, Bats, Predators, Instincts', \n",
    "              'Ecological Genetics', 'Pollution, Disease, Frog Extinction', \n",
    "              'Arctic Conservation, Warming, Seal Hunting', 'Hunting, Elephant Poaching',\n",
    "              'Darwin, Galapagos Islands, Galapagos Tortoises', 'Grasslands, Savannah']"
   ]
  },
  {
   "cell_type": "code",
   "execution_count": 690,
   "metadata": {
    "execution": {
     "iopub.execute_input": "2020-11-11T20:51:57.872424Z",
     "iopub.status.busy": "2020-11-11T20:51:57.872127Z",
     "iopub.status.idle": "2020-11-11T20:52:07.633257Z",
     "shell.execute_reply": "2020-11-11T20:52:07.632046Z",
     "shell.execute_reply.started": "2020-11-11T20:51:57.872385Z"
    }
   },
   "outputs": [],
   "source": [
    "H = pd.DataFrame(doc_topic.round(5),\n",
    "             index = wildlife_df.title.values,\n",
    "             columns = topic_names)\n",
    "H.drop(columns=['?'], inplace=True)\n",
    "\n",
    "maxes = H.max(axis=1).values\n",
    "article_topics = []\n",
    "for i, row in enumerate(H.index):\n",
    "    top_topics = []\n",
    "    if maxes[i] == 0:\n",
    "        article_topics.append('None')\n",
    "    else:\n",
    "        for j, column in enumerate(H.columns):\n",
    "            if H.iloc[i, j] == maxes[i] and maxes[i] > 0:\n",
    "                top_topics.append(column)\n",
    "        article_topics.append(top_topics[0])\n",
    "    \n",
    "    \n",
    "H['closest_topic'] = article_topics\n",
    "\n",
    "for i, title in enumerate(H.index):\n",
    "    ind = topic_df[(topic_df.title == title) & (topic_df.closest_topic == current_topic)].index.values[0]\n",
    "    topic_df.loc[ind, 'subtopic'] = H.iloc[i, 11]"
   ]
  },
  {
   "cell_type": "markdown",
   "metadata": {},
   "source": [
    "### Planetary Science subtopics"
   ]
  },
  {
   "cell_type": "code",
   "execution_count": 763,
   "metadata": {
    "execution": {
     "iopub.execute_input": "2020-11-16T19:51:23.582485Z",
     "iopub.status.busy": "2020-11-16T19:51:23.582231Z",
     "iopub.status.idle": "2020-11-16T19:51:23.586793Z",
     "shell.execute_reply": "2020-11-16T19:51:23.585170Z",
     "shell.execute_reply.started": "2020-11-16T19:51:23.582458Z"
    }
   },
   "outputs": [],
   "source": [
    "current_topic = 'Planetary Science/ Solar System'\n",
    "planet_df = topic_df[topic_df.closest_topic == 'Planetary Science/ Solar System']\n",
    "\n",
    "nlp = NLPPipe(vectorizer=vectorizer, \n",
    "              tokenizer=ToktokTokenizer(),\n",
    "              cleaning_function=None, \n",
    "              stemmer=None,\n",
    "              model = None,\n",
    "              sw_list = None)\n",
    "\n",
    "nlp.fit(planet_df, cleaned = False)\n",
    "\n",
    "dtm = nlp.transform(planet_df, cleaned = True)\n",
    "\n",
    "nmf_model = NMF(7, random_state=2)\n",
    "\n",
    "doc_topic = nmf_model.fit_transform(dtm)\n",
    "\n",
    "# display_topics(nmf_model, nlp.vectorizer.get_feature_names(), 30)"
   ]
  },
  {
   "cell_type": "code",
   "execution_count": 692,
   "metadata": {
    "execution": {
     "iopub.execute_input": "2020-11-11T20:52:17.638364Z",
     "iopub.status.busy": "2020-11-11T20:52:17.638118Z",
     "iopub.status.idle": "2020-11-11T20:52:17.642137Z",
     "shell.execute_reply": "2020-11-11T20:52:17.641285Z",
     "shell.execute_reply.started": "2020-11-11T20:52:17.638330Z"
    }
   },
   "outputs": [],
   "source": [
    "topic_names = ['Planets, Constellations', 'None', 'None', 'None', 'None', 'The Sun', 'None']"
   ]
  },
  {
   "cell_type": "code",
   "execution_count": 693,
   "metadata": {
    "execution": {
     "iopub.execute_input": "2020-11-11T20:52:32.645665Z",
     "iopub.status.busy": "2020-11-11T20:52:32.645401Z",
     "iopub.status.idle": "2020-11-11T20:52:34.941354Z",
     "shell.execute_reply": "2020-11-11T20:52:34.940505Z",
     "shell.execute_reply.started": "2020-11-11T20:52:32.645633Z"
    }
   },
   "outputs": [],
   "source": [
    "H = pd.DataFrame(doc_topic.round(5),\n",
    "             index = planet_df.title.values,\n",
    "             columns = topic_names)\n",
    "# H.drop(columns=['?'], inplace=True)\n",
    "\n",
    "maxes = H.max(axis=1).values\n",
    "article_topics = []\n",
    "for i, row in enumerate(H.index):\n",
    "    top_topics = []\n",
    "    if maxes[i] == 0:\n",
    "        article_topics.append('None')\n",
    "    else:\n",
    "        for j, column in enumerate(H.columns):\n",
    "            if H.iloc[i, j] == maxes[i] and maxes[i] > 0:\n",
    "                top_topics.append(column)\n",
    "        article_topics.append(top_topics[0])\n",
    "    \n",
    "    \n",
    "H['closest_topic'] = article_topics\n",
    "\n",
    "for i, title in enumerate(H.index):\n",
    "    ind = topic_df[(topic_df.title == title) & (topic_df.closest_topic == current_topic)].index.values[0]\n",
    "    topic_df.loc[ind, 'subtopic'] = H.iloc[i, 7]"
   ]
  },
  {
   "cell_type": "code",
   "execution_count": null,
   "metadata": {},
   "outputs": [],
   "source": []
  },
  {
   "cell_type": "code",
   "execution_count": null,
   "metadata": {},
   "outputs": [],
   "source": [
    "current_topic = 'Conferences/ Symposiums'\n",
    "conference_df = topic_df[topic_df.closest_topic == 'Conferences/ Symposiums']\n",
    "\n",
    "nlp = NLPPipe(vectorizer=vectorizer, \n",
    "              tokenizer=ToktokTokenizer(),\n",
    "              cleaning_function=None, \n",
    "              stemmer=None,\n",
    "              model = None,\n",
    "              sw_list = None)\n",
    "\n",
    "nlp.fit(conference_df, cleaned = False)\n",
    "\n",
    "dtm = nlp.transform(conference_df, cleaned = True)\n",
    "\n",
    "nmf_model = NMF(2, random_state=2)\n",
    "\n",
    "doc_topic = nmf_model.fit_transform(dtm)\n",
    "\n",
    "# display_topics(nmf_model, nlp.vectorizer.get_feature_names(), 30)"
   ]
  },
  {
   "cell_type": "code",
   "execution_count": 696,
   "metadata": {
    "execution": {
     "iopub.execute_input": "2020-11-11T20:53:14.107923Z",
     "iopub.status.busy": "2020-11-11T20:53:14.107543Z",
     "iopub.status.idle": "2020-11-11T20:53:14.111655Z",
     "shell.execute_reply": "2020-11-11T20:53:14.110582Z",
     "shell.execute_reply.started": "2020-11-11T20:53:14.107862Z"
    }
   },
   "outputs": [],
   "source": [
    "topic_names = ['None', 'None']"
   ]
  },
  {
   "cell_type": "code",
   "execution_count": 697,
   "metadata": {
    "execution": {
     "iopub.execute_input": "2020-11-11T20:53:24.566005Z",
     "iopub.status.busy": "2020-11-11T20:53:24.565750Z",
     "iopub.status.idle": "2020-11-11T20:53:27.833616Z",
     "shell.execute_reply": "2020-11-11T20:53:27.832783Z",
     "shell.execute_reply.started": "2020-11-11T20:53:24.565975Z"
    }
   },
   "outputs": [],
   "source": [
    "H = pd.DataFrame(doc_topic.round(5),\n",
    "             index = conference_df.title.values,\n",
    "             columns = topic_names)\n",
    "# H.drop(columns=['?'], inplace=True)\n",
    "\n",
    "maxes = H.max(axis=1).values\n",
    "article_topics = []\n",
    "for i, row in enumerate(H.index):\n",
    "    top_topics = []\n",
    "    if maxes[i] == 0:\n",
    "        article_topics.append('None')\n",
    "    else:\n",
    "        for j, column in enumerate(H.columns):\n",
    "            if H.iloc[i, j] == maxes[i] and maxes[i] > 0:\n",
    "                top_topics.append(column)\n",
    "        article_topics.append(top_topics[0])\n",
    "    \n",
    "    \n",
    "H['closest_topic'] = article_topics\n",
    "\n",
    "for i, title in enumerate(H.index):\n",
    "    ind = topic_df[(topic_df.title == title) & (topic_df.closest_topic == current_topic)].index.values[0]\n",
    "    topic_df.loc[ind, 'subtopic'] = H.iloc[i, 2]"
   ]
  },
  {
   "cell_type": "code",
   "execution_count": 764,
   "metadata": {
    "execution": {
     "iopub.execute_input": "2020-11-16T19:52:17.700081Z",
     "iopub.status.busy": "2020-11-16T19:52:17.699668Z",
     "iopub.status.idle": "2020-11-16T19:52:17.705742Z",
     "shell.execute_reply": "2020-11-16T19:52:17.704626Z",
     "shell.execute_reply.started": "2020-11-16T19:52:17.700031Z"
    }
   },
   "outputs": [],
   "source": [
    "current_topic = 'International Affairs'\n",
    "int_df = topic_df[topic_df.closest_topic == 'International Affairs']\n",
    "\n",
    "nlp = NLPPipe(vectorizer=vectorizer, \n",
    "              tokenizer=ToktokTokenizer(),\n",
    "              cleaning_function=None, \n",
    "              stemmer=None,\n",
    "              model = None,\n",
    "              sw_list = None)\n",
    "\n",
    "nlp.fit(int_df, cleaned = False)\n",
    "\n",
    "dtm = nlp.transform(int_df, cleaned = True)\n",
    "\n",
    "nmf_model = NMF(10, random_state=2)\n",
    "\n",
    "doc_topic = nmf_model.fit_transform(dtm)\n",
    "\n",
    "# display_topics(nmf_model, nlp.vectorizer.get_feature_names(), 30)"
   ]
  },
  {
   "cell_type": "code",
   "execution_count": 699,
   "metadata": {
    "execution": {
     "iopub.execute_input": "2020-11-11T20:54:01.824643Z",
     "iopub.status.busy": "2020-11-11T20:54:01.824414Z",
     "iopub.status.idle": "2020-11-11T20:54:01.830792Z",
     "shell.execute_reply": "2020-11-11T20:54:01.829741Z",
     "shell.execute_reply.started": "2020-11-11T20:54:01.824607Z"
    }
   },
   "outputs": [],
   "source": [
    "topic_names = ['?', '??', 'Climate Change', '???', 'Nuclear Proliferation', 'European Union', \n",
    "              '????', 'Human/Animal Rights', '?????', 'Developing World, Public Health']"
   ]
  },
  {
   "cell_type": "code",
   "execution_count": 700,
   "metadata": {
    "execution": {
     "iopub.execute_input": "2020-11-11T20:54:04.307651Z",
     "iopub.status.busy": "2020-11-11T20:54:04.307408Z",
     "iopub.status.idle": "2020-11-11T20:54:16.749308Z",
     "shell.execute_reply": "2020-11-11T20:54:16.748445Z",
     "shell.execute_reply.started": "2020-11-11T20:54:04.307623Z"
    }
   },
   "outputs": [],
   "source": [
    "H = pd.DataFrame(doc_topic.round(5),\n",
    "             index = int_df.title.values,\n",
    "             columns = topic_names)\n",
    "H.drop(columns=['?', '??', '???', '????', '?????'], inplace=True)\n",
    "\n",
    "maxes = H.max(axis=1).values\n",
    "article_topics = []\n",
    "for i, row in enumerate(H.index):\n",
    "    top_topics = []\n",
    "    if maxes[i] == 0:\n",
    "        article_topics.append('None')\n",
    "    else:\n",
    "        for j, column in enumerate(H.columns):\n",
    "            if H.iloc[i, j] == maxes[i] and maxes[i] > 0:\n",
    "                top_topics.append(column)\n",
    "        article_topics.append(top_topics[0])\n",
    "    \n",
    "    \n",
    "H['closest_topic'] = article_topics\n",
    "\n",
    "for i, title in enumerate(H.index):\n",
    "    ind = topic_df[(topic_df.title == title) & (topic_df.closest_topic == current_topic)].index.values[0]\n",
    "    topic_df.loc[ind, 'subtopic'] = H.iloc[i, 5]"
   ]
  },
  {
   "cell_type": "code",
   "execution_count": 703,
   "metadata": {
    "execution": {
     "iopub.execute_input": "2020-11-11T20:55:23.770963Z",
     "iopub.status.busy": "2020-11-11T20:55:23.770715Z",
     "iopub.status.idle": "2020-11-11T20:55:23.776259Z",
     "shell.execute_reply": "2020-11-11T20:55:23.775224Z",
     "shell.execute_reply.started": "2020-11-11T20:55:23.770934Z"
    }
   },
   "outputs": [],
   "source": [
    "topic_df.subtopic.replace(to_replace='', value='None', inplace=True)"
   ]
  },
  {
   "cell_type": "code",
   "execution_count": 705,
   "metadata": {
    "execution": {
     "iopub.execute_input": "2020-11-11T20:56:20.385520Z",
     "iopub.status.busy": "2020-11-11T20:56:20.384971Z",
     "iopub.status.idle": "2020-11-11T20:56:21.369967Z",
     "shell.execute_reply": "2020-11-11T20:56:21.368816Z",
     "shell.execute_reply.started": "2020-11-11T20:56:20.385469Z"
    }
   },
   "outputs": [],
   "source": [
    "pickle.dump(topic_df, open('subtopic_df', 'wb'))"
   ]
  }
 ],
 "metadata": {
  "kernelspec": {
   "display_name": "Python 3",
   "language": "python",
   "name": "python3"
  },
  "language_info": {
   "codemirror_mode": {
    "name": "ipython",
    "version": 3
   },
   "file_extension": ".py",
   "mimetype": "text/x-python",
   "name": "python",
   "nbconvert_exporter": "python",
   "pygments_lexer": "ipython3",
   "version": "3.7.7"
  }
 },
 "nbformat": 4,
 "nbformat_minor": 4
}
